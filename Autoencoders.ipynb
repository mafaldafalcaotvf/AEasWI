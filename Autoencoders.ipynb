{
 "cells": [
  {
   "cell_type": "code",
   "execution_count": 1,
   "metadata": {},
   "outputs": [
    {
     "name": "stderr",
     "output_type": "stream",
     "text": [
      "Using TensorFlow backend.\n"
     ]
    }
   ],
   "source": [
    "import pandas\n",
    "import numpy as np\n",
    "import os\n",
    "\n",
    "from utils import selectProtGenes, removeConstantValues\n",
    "from sklearn.model_selection import train_test_split\n",
    "from sklearn.metrics import confusion_matrix, f1_score, precision_score, recall_score\n",
    "from sklearn.model_selection import StratifiedKFold"
   ]
  },
  {
   "cell_type": "code",
   "execution_count": 2,
   "metadata": {},
   "outputs": [],
   "source": [
    "import keras\n",
    "from keras.layers import Input, Dense, Dropout, BatchNormalization\n",
    "from keras.models import Model, load_model\n",
    "from keras.callbacks import Callback, ModelCheckpoint\n",
    "from keras import regularizers"
   ]
  },
  {
   "cell_type": "code",
   "execution_count": 3,
   "metadata": {},
   "outputs": [],
   "source": [
    "dataPath = '../data'\n",
    "seed = 42\n",
    "testSizeRatio = 0.33"
   ]
  },
  {
   "cell_type": "code",
   "execution_count": 4,
   "metadata": {},
   "outputs": [
    {
     "name": "stdout",
     "output_type": "stream",
     "text": [
      "[INFO] Loading Dataset\n"
     ]
    }
   ],
   "source": [
    "print('[INFO] Loading Dataset')\n",
    "data = pandas.read_csv(os.path.join(dataPath, 'dataset.csv'))\n",
    "columnsNames = data.iloc[:,5:-1].columns.values"
   ]
  },
  {
   "cell_type": "code",
   "execution_count": 5,
   "metadata": {},
   "outputs": [
    {
     "name": "stdout",
     "output_type": "stream",
     "text": [
      "[INFO] Separating Labels from Data\n"
     ]
    }
   ],
   "source": [
    "print('[INFO] Separating Labels from Data')\n",
    "X = data.iloc[:,5:-1].values\n",
    "Y = data.iloc[:, -1].values\n",
    "\n",
    "y = np.array([0 if label == 'Solid Tissue Normal' else 1 for label in Y])"
   ]
  },
  {
   "cell_type": "code",
   "execution_count": 6,
   "metadata": {},
   "outputs": [
    {
     "name": "stdout",
     "output_type": "stream",
     "text": [
      "{'Metastatic': 8, 'Primary Tumor': 502, 'Solid Tissue Normal': 58}\n"
     ]
    }
   ],
   "source": [
    "a = np.array(Y)\n",
    "unique, counts = np.unique(a, return_counts=True)\n",
    "print(dict(zip(unique, counts)))"
   ]
  },
  {
   "cell_type": "code",
   "execution_count": 7,
   "metadata": {},
   "outputs": [
    {
     "name": "stdout",
     "output_type": "stream",
     "text": [
      "[INFO] Selecting only the genes that produce proteins\n"
     ]
    }
   ],
   "source": [
    "with open(os.path.join(dataPath, 'protCodingGenesNoIsomorphs.txt')) as f:\n",
    "    protGenes = f.read()\n",
    "f.closed\n",
    "\n",
    "protGenesList = protGenes.split('\\n') #19147 genes\n",
    "print('[INFO] Selecting only the genes that produce proteins')\n",
    "df = pandas.DataFrame(X, columns=columnsNames)\n",
    "newX = selectProtGenes(df, protGenesList)"
   ]
  },
  {
   "cell_type": "code",
   "execution_count": 8,
   "metadata": {},
   "outputs": [
    {
     "name": "stdout",
     "output_type": "stream",
     "text": [
      "[INFO] Removing Zero Expression Genes\n"
     ]
    }
   ],
   "source": [
    "print('[INFO] Removing Zero Expression Genes')\n",
    "newX = removeConstantValues(newX)"
   ]
  },
  {
   "cell_type": "code",
   "execution_count": 55,
   "metadata": {},
   "outputs": [
    {
     "data": {
      "text/html": [
       "<div>\n",
       "<style scoped>\n",
       "    .dataframe tbody tr th:only-of-type {\n",
       "        vertical-align: middle;\n",
       "    }\n",
       "\n",
       "    .dataframe tbody tr th {\n",
       "        vertical-align: top;\n",
       "    }\n",
       "\n",
       "    .dataframe thead th {\n",
       "        text-align: right;\n",
       "    }\n",
       "</style>\n",
       "<table border=\"1\" class=\"dataframe\">\n",
       "  <thead>\n",
       "    <tr style=\"text-align: right;\">\n",
       "      <th></th>\n",
       "      <th>ENSG00000000003.13</th>\n",
       "      <th>ENSG00000000005.5</th>\n",
       "      <th>ENSG00000000419.11</th>\n",
       "      <th>ENSG00000000457.12</th>\n",
       "      <th>ENSG00000000460.15</th>\n",
       "      <th>ENSG00000000938.11</th>\n",
       "      <th>ENSG00000000971.14</th>\n",
       "      <th>ENSG00000001036.12</th>\n",
       "      <th>ENSG00000001084.9</th>\n",
       "      <th>ENSG00000001167.13</th>\n",
       "      <th>...</th>\n",
       "      <th>ENSG00000279968.1</th>\n",
       "      <th>ENSG00000280090.1</th>\n",
       "      <th>ENSG00000280094.1</th>\n",
       "      <th>ENSG00000280165.1</th>\n",
       "      <th>ENSG00000280236.1</th>\n",
       "      <th>ENSG00000280267.2</th>\n",
       "      <th>ENSG00000280670.1</th>\n",
       "      <th>ENSG00000280789.1</th>\n",
       "      <th>ENSG00000280969.1</th>\n",
       "      <th>ENSG00000281106.1</th>\n",
       "    </tr>\n",
       "  </thead>\n",
       "  <tbody>\n",
       "    <tr>\n",
       "      <th>count</th>\n",
       "      <td>568.000000</td>\n",
       "      <td>568.000000</td>\n",
       "      <td>568.000000</td>\n",
       "      <td>568.000000</td>\n",
       "      <td>568.000000</td>\n",
       "      <td>568.000000</td>\n",
       "      <td>568.000000</td>\n",
       "      <td>568.000000</td>\n",
       "      <td>568.000000</td>\n",
       "      <td>568.000000</td>\n",
       "      <td>...</td>\n",
       "      <td>568.000000</td>\n",
       "      <td>568.000000</td>\n",
       "      <td>568.000000</td>\n",
       "      <td>568.000000</td>\n",
       "      <td>568.000000</td>\n",
       "      <td>568.000000</td>\n",
       "      <td>568.000000</td>\n",
       "      <td>568.000000</td>\n",
       "      <td>568.000000</td>\n",
       "      <td>568.000000</td>\n",
       "    </tr>\n",
       "    <tr>\n",
       "      <th>mean</th>\n",
       "      <td>13.480151</td>\n",
       "      <td>0.038858</td>\n",
       "      <td>24.411179</td>\n",
       "      <td>2.445994</td>\n",
       "      <td>0.634909</td>\n",
       "      <td>3.297082</td>\n",
       "      <td>14.025450</td>\n",
       "      <td>23.880482</td>\n",
       "      <td>5.452824</td>\n",
       "      <td>9.919418</td>\n",
       "      <td>...</td>\n",
       "      <td>0.193035</td>\n",
       "      <td>0.000025</td>\n",
       "      <td>0.000376</td>\n",
       "      <td>0.016667</td>\n",
       "      <td>0.000520</td>\n",
       "      <td>0.000019</td>\n",
       "      <td>1.185737</td>\n",
       "      <td>5.745020</td>\n",
       "      <td>0.013879</td>\n",
       "      <td>0.012197</td>\n",
       "    </tr>\n",
       "    <tr>\n",
       "      <th>std</th>\n",
       "      <td>4.014049</td>\n",
       "      <td>0.071818</td>\n",
       "      <td>4.720777</td>\n",
       "      <td>0.643267</td>\n",
       "      <td>0.209722</td>\n",
       "      <td>2.563183</td>\n",
       "      <td>11.956581</td>\n",
       "      <td>4.828360</td>\n",
       "      <td>4.055370</td>\n",
       "      <td>2.589152</td>\n",
       "      <td>...</td>\n",
       "      <td>0.107004</td>\n",
       "      <td>0.000600</td>\n",
       "      <td>0.002402</td>\n",
       "      <td>0.063542</td>\n",
       "      <td>0.006983</td>\n",
       "      <td>0.000453</td>\n",
       "      <td>0.938940</td>\n",
       "      <td>1.582164</td>\n",
       "      <td>0.035237</td>\n",
       "      <td>0.027185</td>\n",
       "    </tr>\n",
       "    <tr>\n",
       "      <th>min</th>\n",
       "      <td>0.650256</td>\n",
       "      <td>0.000000</td>\n",
       "      <td>3.379340</td>\n",
       "      <td>0.636587</td>\n",
       "      <td>0.031470</td>\n",
       "      <td>0.292606</td>\n",
       "      <td>0.153211</td>\n",
       "      <td>7.076953</td>\n",
       "      <td>0.870851</td>\n",
       "      <td>2.579666</td>\n",
       "      <td>...</td>\n",
       "      <td>0.020426</td>\n",
       "      <td>0.000000</td>\n",
       "      <td>0.000000</td>\n",
       "      <td>0.000000</td>\n",
       "      <td>0.000000</td>\n",
       "      <td>0.000000</td>\n",
       "      <td>0.139140</td>\n",
       "      <td>1.167532</td>\n",
       "      <td>0.000000</td>\n",
       "      <td>0.000000</td>\n",
       "    </tr>\n",
       "    <tr>\n",
       "      <th>25%</th>\n",
       "      <td>10.774082</td>\n",
       "      <td>0.008194</td>\n",
       "      <td>21.744340</td>\n",
       "      <td>1.989970</td>\n",
       "      <td>0.481107</td>\n",
       "      <td>1.524284</td>\n",
       "      <td>4.514743</td>\n",
       "      <td>20.823537</td>\n",
       "      <td>3.912986</td>\n",
       "      <td>8.442415</td>\n",
       "      <td>...</td>\n",
       "      <td>0.119269</td>\n",
       "      <td>0.000000</td>\n",
       "      <td>0.000000</td>\n",
       "      <td>0.000000</td>\n",
       "      <td>0.000000</td>\n",
       "      <td>0.000000</td>\n",
       "      <td>0.460046</td>\n",
       "      <td>4.677780</td>\n",
       "      <td>0.000000</td>\n",
       "      <td>0.000000</td>\n",
       "    </tr>\n",
       "    <tr>\n",
       "      <th>50%</th>\n",
       "      <td>13.080501</td>\n",
       "      <td>0.020888</td>\n",
       "      <td>24.165120</td>\n",
       "      <td>2.451985</td>\n",
       "      <td>0.635745</td>\n",
       "      <td>2.656106</td>\n",
       "      <td>11.662339</td>\n",
       "      <td>23.380897</td>\n",
       "      <td>4.854067</td>\n",
       "      <td>9.940825</td>\n",
       "      <td>...</td>\n",
       "      <td>0.171544</td>\n",
       "      <td>0.000000</td>\n",
       "      <td>0.000000</td>\n",
       "      <td>0.003992</td>\n",
       "      <td>0.000000</td>\n",
       "      <td>0.000000</td>\n",
       "      <td>0.873180</td>\n",
       "      <td>5.618915</td>\n",
       "      <td>0.000000</td>\n",
       "      <td>0.004950</td>\n",
       "    </tr>\n",
       "    <tr>\n",
       "      <th>75%</th>\n",
       "      <td>16.048695</td>\n",
       "      <td>0.044359</td>\n",
       "      <td>27.002182</td>\n",
       "      <td>2.873230</td>\n",
       "      <td>0.781460</td>\n",
       "      <td>4.303123</td>\n",
       "      <td>19.972506</td>\n",
       "      <td>26.188263</td>\n",
       "      <td>6.033969</td>\n",
       "      <td>11.562251</td>\n",
       "      <td>...</td>\n",
       "      <td>0.235243</td>\n",
       "      <td>0.000000</td>\n",
       "      <td>0.000000</td>\n",
       "      <td>0.012637</td>\n",
       "      <td>0.000000</td>\n",
       "      <td>0.000000</td>\n",
       "      <td>1.725785</td>\n",
       "      <td>6.749239</td>\n",
       "      <td>0.000000</td>\n",
       "      <td>0.012716</td>\n",
       "    </tr>\n",
       "    <tr>\n",
       "      <th>max</th>\n",
       "      <td>27.981840</td>\n",
       "      <td>0.888517</td>\n",
       "      <td>41.917406</td>\n",
       "      <td>4.899258</td>\n",
       "      <td>1.241166</td>\n",
       "      <td>21.910821</td>\n",
       "      <td>71.434857</td>\n",
       "      <td>53.188072</td>\n",
       "      <td>66.665259</td>\n",
       "      <td>18.984943</td>\n",
       "      <td>...</td>\n",
       "      <td>1.150037</td>\n",
       "      <td>0.014308</td>\n",
       "      <td>0.019660</td>\n",
       "      <td>1.055494</td>\n",
       "      <td>0.160010</td>\n",
       "      <td>0.010796</td>\n",
       "      <td>6.474588</td>\n",
       "      <td>11.846847</td>\n",
       "      <td>0.293861</td>\n",
       "      <td>0.436669</td>\n",
       "    </tr>\n",
       "  </tbody>\n",
       "</table>\n",
       "<p>8 rows × 18985 columns</p>\n",
       "</div>"
      ],
      "text/plain": [
       "       ENSG00000000003.13  ENSG00000000005.5  ENSG00000000419.11  \\\n",
       "count          568.000000         568.000000          568.000000   \n",
       "mean            13.480151           0.038858           24.411179   \n",
       "std              4.014049           0.071818            4.720777   \n",
       "min              0.650256           0.000000            3.379340   \n",
       "25%             10.774082           0.008194           21.744340   \n",
       "50%             13.080501           0.020888           24.165120   \n",
       "75%             16.048695           0.044359           27.002182   \n",
       "max             27.981840           0.888517           41.917406   \n",
       "\n",
       "       ENSG00000000457.12  ENSG00000000460.15  ENSG00000000938.11  \\\n",
       "count          568.000000          568.000000          568.000000   \n",
       "mean             2.445994            0.634909            3.297082   \n",
       "std              0.643267            0.209722            2.563183   \n",
       "min              0.636587            0.031470            0.292606   \n",
       "25%              1.989970            0.481107            1.524284   \n",
       "50%              2.451985            0.635745            2.656106   \n",
       "75%              2.873230            0.781460            4.303123   \n",
       "max              4.899258            1.241166           21.910821   \n",
       "\n",
       "       ENSG00000000971.14  ENSG00000001036.12  ENSG00000001084.9  \\\n",
       "count          568.000000          568.000000         568.000000   \n",
       "mean            14.025450           23.880482           5.452824   \n",
       "std             11.956581            4.828360           4.055370   \n",
       "min              0.153211            7.076953           0.870851   \n",
       "25%              4.514743           20.823537           3.912986   \n",
       "50%             11.662339           23.380897           4.854067   \n",
       "75%             19.972506           26.188263           6.033969   \n",
       "max             71.434857           53.188072          66.665259   \n",
       "\n",
       "       ENSG00000001167.13        ...          ENSG00000279968.1  \\\n",
       "count          568.000000        ...                 568.000000   \n",
       "mean             9.919418        ...                   0.193035   \n",
       "std              2.589152        ...                   0.107004   \n",
       "min              2.579666        ...                   0.020426   \n",
       "25%              8.442415        ...                   0.119269   \n",
       "50%              9.940825        ...                   0.171544   \n",
       "75%             11.562251        ...                   0.235243   \n",
       "max             18.984943        ...                   1.150037   \n",
       "\n",
       "       ENSG00000280090.1  ENSG00000280094.1  ENSG00000280165.1  \\\n",
       "count         568.000000         568.000000         568.000000   \n",
       "mean            0.000025           0.000376           0.016667   \n",
       "std             0.000600           0.002402           0.063542   \n",
       "min             0.000000           0.000000           0.000000   \n",
       "25%             0.000000           0.000000           0.000000   \n",
       "50%             0.000000           0.000000           0.003992   \n",
       "75%             0.000000           0.000000           0.012637   \n",
       "max             0.014308           0.019660           1.055494   \n",
       "\n",
       "       ENSG00000280236.1  ENSG00000280267.2  ENSG00000280670.1  \\\n",
       "count         568.000000         568.000000         568.000000   \n",
       "mean            0.000520           0.000019           1.185737   \n",
       "std             0.006983           0.000453           0.938940   \n",
       "min             0.000000           0.000000           0.139140   \n",
       "25%             0.000000           0.000000           0.460046   \n",
       "50%             0.000000           0.000000           0.873180   \n",
       "75%             0.000000           0.000000           1.725785   \n",
       "max             0.160010           0.010796           6.474588   \n",
       "\n",
       "       ENSG00000280789.1  ENSG00000280969.1  ENSG00000281106.1  \n",
       "count         568.000000         568.000000         568.000000  \n",
       "mean            5.745020           0.013879           0.012197  \n",
       "std             1.582164           0.035237           0.027185  \n",
       "min             1.167532           0.000000           0.000000  \n",
       "25%             4.677780           0.000000           0.000000  \n",
       "50%             5.618915           0.000000           0.004950  \n",
       "75%             6.749239           0.000000           0.012716  \n",
       "max            11.846847           0.293861           0.436669  \n",
       "\n",
       "[8 rows x 18985 columns]"
      ]
     },
     "execution_count": 55,
     "metadata": {},
     "output_type": "execute_result"
    }
   ],
   "source": [
    "newX.describe()"
   ]
  },
  {
   "cell_type": "markdown",
   "metadata": {},
   "source": [
    "Let's create the basic autoencoder, as a single fully-connected neural layer."
   ]
  },
  {
   "cell_type": "code",
   "execution_count": 9,
   "metadata": {},
   "outputs": [],
   "source": [
    "def basicAutoEncoder(encodingDim = 128):\n",
    "    def factory(X):\n",
    "        _, dim = X.shape \n",
    "\n",
    "        inputLayer = Input(shape=(dim,))\n",
    "        # \"encoded\" is the encoded representation of the input\n",
    "        encoded = Dense(encodingDim, activation='relu')(inputLayer)\n",
    "        # \"decoded\" is the lossy reconstruction of the input\n",
    "        decoded = Dense(dim, activation='relu')(encoded)\n",
    "        autoencoder = Model(inputLayer, decoded)\n",
    "        autoencoder.compile(optimizer='adadelta', loss='mean_squared_error')\n",
    "        encoder = Model(inputLayer, encoded)\n",
    "\n",
    "        return autoencoder,encoder\n",
    "    return factory"
   ]
  },
  {
   "cell_type": "code",
   "execution_count": 10,
   "metadata": {},
   "outputs": [],
   "source": [
    "def denoisingAutoEncoder(dropout=0.1,encodingDim = 128):\n",
    "    def factory(X):\n",
    "        _, dim = X.shape \n",
    "\n",
    "        inputLayer = Input(shape=(dim,))\n",
    "        # \"encoded\" is the encoded representation of the input\n",
    "        encoded = Dense(encodingDim, activation='relu')(Dropout(dropout)(inputLayer))\n",
    "        # \"decoded\" is the lossy reconstruction of the input\n",
    "        decoded = Dense(dim, activation='relu')(encoded)\n",
    "        autoencoder = Model(inputLayer, decoded)\n",
    "        autoencoder.compile(optimizer='adadelta', loss='mean_squared_error')\n",
    "        encoder = Model(inputLayer, encoded)\n",
    "\n",
    "        return autoencoder,encoder\n",
    "    \n",
    "    return factory"
   ]
  },
  {
   "cell_type": "code",
   "execution_count": 11,
   "metadata": {},
   "outputs": [],
   "source": [
    "def sparseAutoEncoder(reg=10e-5,encodingDim = 128):\n",
    "    def factory(X):\n",
    "        _, dim = X.shape\n",
    "        \n",
    "        inputLayer = Input(shape=(dim,))\n",
    "        encoded = Dense(encodingDim, activation='relu', activity_regularizer=regularizers.l1(reg))(inputLayer)\n",
    "        decoded = Dense(dim, activation='relu')(encoded)\n",
    "\n",
    "        autoencoder = Model(inputLayer, decoded)\n",
    "        autoencoder.compile(optimizer='adadelta', loss='mean_squared_error')\n",
    "        encoder = Model(inputLayer, encoded)\n",
    "\n",
    "        return autoencoder, encoder\n",
    "    \n",
    "    return factory"
   ]
  },
  {
   "cell_type": "code",
   "execution_count": 12,
   "metadata": {},
   "outputs": [],
   "source": [
    "def sparseBNAutoEncoder(reg=10e-5,encodingDim = 128):\n",
    "    def factory(X):\n",
    "        _, dim = X.shape\n",
    "        \n",
    "        inputLayer = Input(shape=(dim,))\n",
    "        bn = BatchNormalization()(inputLayer)\n",
    "        encoded = Dense(encodingDim, activation='relu', activity_regularizer=regularizers.l1(reg))(bn)\n",
    "        decoded = Dense(dim, activation='relu')(encoded)\n",
    "\n",
    "        autoencoder = Model(inputLayer, decoded)\n",
    "        autoencoder.compile(optimizer='adadelta', loss='mean_squared_error')\n",
    "        encoder = Model(inputLayer, encoded)\n",
    "\n",
    "        return autoencoder, encoder\n",
    "    \n",
    "    return factory"
   ]
  },
  {
   "cell_type": "code",
   "execution_count": 13,
   "metadata": {},
   "outputs": [],
   "source": [
    "def denoisingSparseAutoEncoder(reg=10e-5,encodingDim = 256,dropout=0.1):\n",
    "    def factory(X):\n",
    "        _, dim = X.shape\n",
    "        \n",
    "        inputLayer = Input(shape=(dim,))\n",
    "        encoded = Dense(encodingDim, activation='relu', activity_regularizer=regularizers.l1(reg))(Dropout(dropout)(inputLayer))\n",
    "        decoded = Dense(dim, activation='relu')(encoded)\n",
    "\n",
    "        autoencoder = Model(inputLayer, decoded)\n",
    "        autoencoder.compile(optimizer='adadelta', loss='mean_squared_error')\n",
    "        encoder = Model(inputLayer, encoded)\n",
    "\n",
    "        return autoencoder, encoder\n",
    "    \n",
    "    return factory"
   ]
  },
  {
   "cell_type": "code",
   "execution_count": 14,
   "metadata": {},
   "outputs": [],
   "source": [
    "def deepAutoEncoder(dims=[512, 256, 128]):\n",
    "    def factory(X):\n",
    "        _, dim = X.shape\n",
    "        \n",
    "        inputLayer = Input(shape=(dim,))\n",
    "        e1 = Dense(dims[0], activation='relu')(inputLayer)\n",
    "        e2 = Dense(dims[1], activation='relu')(e1)\n",
    "        e3 = Dense(dims[2], activation='relu')(e2)\n",
    "        d2 = Dense(dims[1], activation='relu')(e3)\n",
    "        d1 = Dense(dims[0], activation='relu')(d2)\n",
    "        decoded = Dense(dim, activation='relu')(d1)\n",
    "\n",
    "        autoencoder = Model(inputLayer, decoded)\n",
    "        autoencoder.compile(optimizer='adadelta', loss='mean_squared_error')\n",
    "        encoder = Model(inputLayer, e3)\n",
    "\n",
    "        return autoencoder, encoder\n",
    "    \n",
    "    return factory"
   ]
  },
  {
   "cell_type": "code",
   "execution_count": 15,
   "metadata": {},
   "outputs": [],
   "source": [
    "def deepSparseDenoisingAutoEncoder(dims=[512, 256, 128],reg=10e-5,dropout=0.1):\n",
    "    def factory(X):\n",
    "        _, dim = X.shape\n",
    "        \n",
    "        inputLayer = Input(shape=(dim,))\n",
    "        e1 = Dense(dims[0], activation='relu', activity_regularizer=regularizers.l1(reg))(Dropout(dropout)(inputLayer))\n",
    "        e2 = Dense(dims[1], activation='relu', activity_regularizer=regularizers.l1(reg))(e1)\n",
    "        e3 = Dense(dims[2], activation='relu', activity_regularizer=regularizers.l1(reg))(e2)\n",
    "        d2 = Dense(dims[1], activation='relu')(e3)\n",
    "        d1 = Dense(dims[0], activation='relu')(d2)\n",
    "        decoded = Dense(dim, activation='relu')(d1)\n",
    "\n",
    "        autoencoder = Model(inputLayer, decoded)\n",
    "        autoencoder.compile(optimizer='adadelta', loss='mean_squared_error')\n",
    "        encoder = Model(inputLayer, e3)\n",
    "\n",
    "        return autoencoder, encoder\n",
    "    \n",
    "    return factory"
   ]
  },
  {
   "cell_type": "code",
   "execution_count": 16,
   "metadata": {},
   "outputs": [],
   "source": [
    "import keras_metrics\n",
    "\n",
    "def buildClassifier(inputDim):\n",
    "    inputLayer = Input(shape=(inputDim,))\n",
    "    x = BatchNormalization()(inputLayer)\n",
    "    x = Dense(100, activation='relu')(x)\n",
    "    x = Dense(10, activation='relu')(x)\n",
    "    predLayer = Dense(1, activation='sigmoid')(x)\n",
    "    model = Model(inputs=inputLayer, outputs=predLayer)\n",
    "    model.compile(loss='binary_crossentropy', optimizer='adam', metrics=['accuracy', keras_metrics.precision(), keras_metrics.recall()])\n",
    "    return model"
   ]
  },
  {
   "cell_type": "code",
   "execution_count": 17,
   "metadata": {},
   "outputs": [],
   "source": [
    "import keras_metrics\n",
    "\n",
    "def buildClassifierWithInit(topModel, allowAEFineTune = True):\n",
    "    for layer in topModel.layers:\n",
    "        layer.trainable = allowAEFineTune\n",
    "        \n",
    "    x = BatchNormalization()(topModel.output)\n",
    "    x = Dense(100, activation='relu')(x)\n",
    "    x = Dense(10, activation='relu')(x)\n",
    "    predLayer = Dense(1, activation='sigmoid')(x)\n",
    "    model = Model(inputs=topModel.input, outputs=predLayer)\n",
    "    model.compile(loss='binary_crossentropy', optimizer='adam', metrics=['accuracy', keras_metrics.precision(), keras_metrics.recall(), keras_metrics.f1_score()])\n",
    "\n",
    "    return model"
   ]
  },
  {
   "cell_type": "markdown",
   "metadata": {},
   "source": [
    "# Here commences the tests!"
   ]
  },
  {
   "cell_type": "code",
   "execution_count": 18,
   "metadata": {},
   "outputs": [],
   "source": [
    "def getBestByKey(hist, key = 'val_loss', f = min):\n",
    "    ix = hist.history[key].index(f(hist.history[key]))\n",
    "    return [hist.history[k][ix] for k in hist.history.keys()]\n",
    "\n",
    "def summarizeMetrics(historics, key = 'val_loss', f = min):\n",
    "    metrics = [getBestByKey(h, key, f) for h in historics]\n",
    "    result = pandas.DataFrame(metrics, columns=historics[0].history.keys())\n",
    "\n",
    "    return result\n",
    "\n",
    "def summarizeKFold(hists, key = 'val_loss', f = min):\n",
    "    means = pandas.concat([summarizeMetrics(hists[i], key, f).mean(axis=0) for i in [0, 1]], axis=1).transpose()\n",
    "    devs = pandas.concat([summarizeMetrics(hists[i], key, f).std(axis=0) for i in [0, 1]], axis=1).transpose()\n",
    "    return means.applymap(lambda x: '%.2f%%' % (x * 100)) + devs.applymap(lambda x: ' (±%.2f%%)' % (x * 100))\n",
    "\n",
    "def summarizeKFold2(hists, key = 'val_loss', f = min):\n",
    "    means = pandas.concat([summarizeMetrics(hists[i], key, f).mean(axis=0) for i in [0, 1]], axis=1).transpose()\n",
    "    devs = pandas.concat([summarizeMetrics(hists[i], key, f).std(axis=0) for i in [0, 1]], axis=1).transpose()\n",
    "    means.iloc[:,0] = means.iloc[:,0].apply(lambda x: round(x, 3))\n",
    "    devs.iloc[:,0] = means.iloc[:,0].apply(lambda x: round(x, 3))\n",
    "    means.iloc[:,1:] = means.iloc[:,1:].applymap(lambda x: '%.2f%%' % (x * 100))\n",
    "    devs.iloc[:,1:] = devs.iloc[:,1:].applymap(lambda x: ' (±%.2f%%)' % (x * 100))\n",
    "    return means + devs"
   ]
  },
  {
   "cell_type": "code",
   "execution_count": 19,
   "metadata": {},
   "outputs": [],
   "source": [
    "def experienceB(X, y, aeFactory, nEpochsAE = 100, nEpochs = 100, batchSize=100, trainVerbose=True,aeFineTune=True,nFolds=3):    \n",
    "    ## Let's guarantee the reproducability of the results (!)\n",
    "    from tensorflow import set_random_seed\n",
    "    np.random.seed(seed)\n",
    "    set_random_seed(seed)\n",
    "    xValResults = ([], []) #1st is encoder, 2nd is ae\n",
    "    \n",
    "    folds = StratifiedKFold(n_splits=nFolds, shuffle=True, random_state=seed)\n",
    "    \n",
    "    currentFold = 1\n",
    "    for train, val in folds.split(X, y):\n",
    "        XTrain = X.values[train]\n",
    "        yTrain = y[train]\n",
    "        XVal = X.values[val]\n",
    "        yVal = y[val]\n",
    "        \n",
    "        autoencoder, encoder = aeFactory(XTrain)\n",
    "        \n",
    "        print(encoder.summary())\n",
    "        print(autoencoder.summary())\n",
    "        \n",
    "        ## First we train the autoencoder    \n",
    "        filepath = \"autoencoder.best.hdf5\"\n",
    "        checkpoint = ModelCheckpoint(filepath, monitor='val_loss', verbose=trainVerbose, save_best_only=True, mode='min')\n",
    "\n",
    "        print('[FOLD %d] Training Autoencoder' % currentFold)\n",
    "        autoencoder.fit(XTrain, XTrain, epochs=nEpochsAE, batch_size=batchSize, validation_data=(XVal, XVal),verbose=trainVerbose, callbacks = [checkpoint])\n",
    "\n",
    "        historials = []\n",
    "\n",
    "        for (model, name) in [(encoder, \"Encoder\"), (autoencoder, \"Autoencoder\")]:\n",
    "            ## Use encoded layer to predict \n",
    "            print('[FOLD %d] Finetuning model with top layers from %s' % (currentFold, name))\n",
    "            autoencoder.load_weights(filepath)\n",
    "            encoderBasedModel = buildClassifierWithInit(model,aeFineTune)\n",
    "            \n",
    "            print(encoderBasedModel.summary())\n",
    "            \n",
    "            historials.append(encoderBasedModel.fit(XTrain, yTrain, batch_size=batchSize, epochs=nEpochs, validation_data=(XVal, yVal), verbose=trainVerbose))\n",
    "        \n",
    "        xValResults[0].append(historials[0])\n",
    "        xValResults[1].append(historials[1])\n",
    "\n",
    "        currentFold += 1\n",
    "\n",
    "    return xValResults"
   ]
  },
  {
   "cell_type": "code",
   "execution_count": 20,
   "metadata": {},
   "outputs": [],
   "source": [
    "def experienceC(X, y, aeFactory, nEpochsAE = 100, batchSize=100, trainVerbose=True, nFolds=3):    \n",
    "    ## Let's guarantee the reproducability of the results (!)\n",
    "    from tensorflow import set_random_seed\n",
    "    np.random.seed(seed)\n",
    "    set_random_seed(seed)\n",
    "    xValResults = []\n",
    "    \n",
    "    folds = StratifiedKFold(n_splits=nFolds, shuffle=True, random_state=seed)\n",
    "    \n",
    "    currentFold = 1\n",
    "    for train, val in folds.split(X, y):\n",
    "        XTrain = X.values[train]\n",
    "        yTrain = y[train]\n",
    "        XVal = X.values[val]\n",
    "        yVal = y[val]\n",
    "        \n",
    "        autoencoder, _ = aeFactory(XTrain)\n",
    "        \n",
    "        #filepath = \"autoencoder.best.hdf5\"\n",
    "        #checkpoint = ModelCheckpoint(filepath, monitor='val_loss', verbose=trainVerbose, save_best_only=True, mode='min')\n",
    "\n",
    "        print('[FOLD %d] Training Autoencoder' % currentFold)\n",
    "        hists = autoencoder.fit(XTrain, XTrain, epochs=nEpochsAE, batch_size=batchSize, validation_data=(XVal, XVal),verbose=trainVerbose)\n",
    "        \n",
    "        xValResults.append(hists.history)\n",
    "        \n",
    "        currentFold += 1\n",
    "\n",
    "    return xValResults"
   ]
  },
  {
   "cell_type": "code",
   "execution_count": 21,
   "metadata": {},
   "outputs": [],
   "source": [
    "def valLosses(hists, key='val_loss'):\n",
    "    values = np.array([h[key] for h in hists])\n",
    "    mins = np.min(values, axis=0)\n",
    "    maxs = np.max(values, axis=0)\n",
    "    means = np.mean(values, axis=0)\n",
    "    return means, mins, maxs"
   ]
  },
  {
   "cell_type": "code",
   "execution_count": 22,
   "metadata": {},
   "outputs": [],
   "source": [
    "def drawLoss(l,filename=None,ylim=[1000,30000]):\n",
    "    import math\n",
    "    import matplotlib.pyplot as plt\n",
    "    %matplotlib inline\n",
    "\n",
    "    y = np.min(l[1])\n",
    "    x = np.argmin(l[1])\n",
    "    label = 'Minima: ' + str(math.floor(y))\n",
    "\n",
    "    plt.ylim(ylim)\n",
    "    plt.yscale('log')\n",
    "    plt.plot(l[0])\n",
    "    plt.plot(x, y, 'x', color='black', label=label)\n",
    "    plt.legend()\n",
    "    plt.fill_between(x=range(0,len(l[0])), y1=l[1], y2=l[2], color=(0,0,0,0.1))\n",
    "    \n",
    "    if filename is not None: plt.savefig(filename, format='pdf', bbox_inches='tight')\n",
    "    \n",
    "    plt.show()\n",
    "    \n",
    "    "
   ]
  },
  {
   "cell_type": "code",
   "execution_count": 39,
   "metadata": {},
   "outputs": [
    {
     "name": "stdout",
     "output_type": "stream",
     "text": [
      "[FOLD 1] Training Autoencoder\n",
      "[FOLD 2] Training Autoencoder\n",
      "[FOLD 3] Training Autoencoder\n",
      "[FOLD 4] Training Autoencoder\n",
      "[FOLD 5] Training Autoencoder\n"
     ]
    }
   ],
   "source": [
    "AEloss = experienceC(newX, y, basicAutoEncoder(), nEpochsAE = 1000, batchSize=100, trainVerbose=False, nFolds=5)"
   ]
  },
  {
   "cell_type": "code",
   "execution_count": 40,
   "metadata": {},
   "outputs": [
    {
     "name": "stdout",
     "output_type": "stream",
     "text": [
      "[FOLD 1] Training Autoencoder\n",
      "[FOLD 2] Training Autoencoder\n",
      "[FOLD 3] Training Autoencoder\n",
      "[FOLD 4] Training Autoencoder\n",
      "[FOLD 5] Training Autoencoder\n"
     ]
    }
   ],
   "source": [
    "DAELoss = experienceC(newX, y, denoisingAutoEncoder(), nEpochsAE = 1000, batchSize=100, trainVerbose=False,nFolds=5)"
   ]
  },
  {
   "cell_type": "code",
   "execution_count": 41,
   "metadata": {},
   "outputs": [
    {
     "name": "stdout",
     "output_type": "stream",
     "text": [
      "[FOLD 1] Training Autoencoder\n",
      "[FOLD 2] Training Autoencoder\n",
      "[FOLD 3] Training Autoencoder\n",
      "[FOLD 4] Training Autoencoder\n",
      "[FOLD 5] Training Autoencoder\n"
     ]
    }
   ],
   "source": [
    "SAELoss = experienceC(newX, y, sparseAutoEncoder(), nEpochsAE = 1000, batchSize=100, trainVerbose=False,nFolds=5)"
   ]
  },
  {
   "cell_type": "code",
   "execution_count": 42,
   "metadata": {},
   "outputs": [
    {
     "name": "stdout",
     "output_type": "stream",
     "text": [
      "[FOLD 1] Training Autoencoder\n",
      "[FOLD 2] Training Autoencoder\n",
      "[FOLD 3] Training Autoencoder\n",
      "[FOLD 4] Training Autoencoder\n",
      "[FOLD 5] Training Autoencoder\n"
     ]
    }
   ],
   "source": [
    "DSAELoss = experienceC(newX, y, denoisingSparseAutoEncoder(), nEpochsAE = 1000, batchSize=100, trainVerbose=False,nFolds=5)"
   ]
  },
  {
   "cell_type": "code",
   "execution_count": 23,
   "metadata": {},
   "outputs": [
    {
     "name": "stdout",
     "output_type": "stream",
     "text": [
      "[FOLD 1] Training Autoencoder\n",
      "[FOLD 2] Training Autoencoder\n",
      "[FOLD 3] Training Autoencoder\n",
      "[FOLD 4] Training Autoencoder\n",
      "[FOLD 5] Training Autoencoder\n"
     ]
    }
   ],
   "source": [
    "DpLoss = experienceC(newX, y, deepAutoEncoder(), nEpochsAE = 1000, batchSize=100, trainVerbose=False,nFolds=5)"
   ]
  },
  {
   "cell_type": "code",
   "execution_count": 24,
   "metadata": {},
   "outputs": [
    {
     "name": "stdout",
     "output_type": "stream",
     "text": [
      "[FOLD 1] Training Autoencoder\n",
      "[FOLD 2] Training Autoencoder\n",
      "[FOLD 3] Training Autoencoder\n",
      "[FOLD 4] Training Autoencoder\n",
      "[FOLD 5] Training Autoencoder\n"
     ]
    }
   ],
   "source": [
    "DSDAELoss = experienceC(newX, y, deepSparseDenoisingAutoEncoder(), nEpochsAE = 1000, batchSize=100, trainVerbose=False,nFolds=5)"
   ]
  },
  {
   "cell_type": "code",
   "execution_count": null,
   "metadata": {},
   "outputs": [],
   "source": [
    "drawLoss(valLosses(AEloss, 'loss'), filename='plotLoss_AE_train.pdf', ylim=[300,50000])"
   ]
  },
  {
   "cell_type": "code",
   "execution_count": 188,
   "metadata": {},
   "outputs": [
    {
     "data": {
      "image/png": "[encoded data removed]",
      "text/plain": [
       "<Figure size 432x288 with 1 Axes>"
      ]
     },
     "metadata": {},
     "output_type": "display_data"
    }
   ],
   "source": [
    "drawLoss(valLosses(DAELoss), filename='plotLoss_DAE.pdf', ylim=[300,50000])"
   ]
  },
  {
   "cell_type": "code",
   "execution_count": 189,
   "metadata": {},
   "outputs": [
    {
     "data": {
      "image/png": "[encoded data removed]",
      "text/plain": [
       "<Figure size 432x288 with 1 Axes>"
      ]
     },
     "metadata": {},
     "output_type": "display_data"
    }
   ],
   "source": [
    "drawLoss(valLosses(SAELoss), filename='plotLoss_SAE.pdf', ylim=[300,50000])"
   ]
  },
  {
   "cell_type": "code",
   "execution_count": 190,
   "metadata": {},
   "outputs": [
    {
     "data": {
      "image/png": "[encoded data removed]",
      "text/plain": [
       "<Figure size 432x288 with 1 Axes>"
      ]
     },
     "metadata": {},
     "output_type": "display_data"
    }
   ],
   "source": [
    "drawLoss(valLosses(DSAELoss), filename='plotLoss_DSAE.pdf', ylim=[300,50000])"
   ]
  },
  {
   "cell_type": "code",
   "execution_count": 25,
   "metadata": {},
   "outputs": [
    {
     "data": {
      "image/png": "[encoded data removed]",
      "text/plain": [
       "<Figure size 432x288 with 1 Axes>"
      ]
     },
     "metadata": {},
     "output_type": "display_data"
    }
   ],
   "source": [
    "drawLoss(valLosses(DpLoss), filename='plotLoss_DP.pdf', ylim=[300,50000])"
   ]
  },
  {
   "cell_type": "code",
   "execution_count": 31,
   "metadata": {},
   "outputs": [
    {
     "data": {
      "image/png": "[encoded data removed]",
      "text/plain": [
       "<Figure size 432x288 with 1 Axes>"
      ]
     },
     "metadata": {},
     "output_type": "display_data"
    }
   ],
   "source": [
    "drawLoss(valLosses(DSDAELoss), filename='plotLoss_DSDAE.pdf', ylim=[300,50000])"
   ]
  },
  {
   "cell_type": "code",
   "execution_count": 44,
   "metadata": {},
   "outputs": [
    {
     "data": {
      "image/png": "[encoded data removed]",
      "text/plain": [
       "<Figure size 432x288 with 1 Axes>"
      ]
     },
     "metadata": {},
     "output_type": "display_data"
    },
    {
     "data": {
      "image/png": "[encoded data removed]",
      "text/plain": [
       "<Figure size 432x288 with 1 Axes>"
      ]
     },
     "metadata": {},
     "output_type": "display_data"
    },
    {
     "data": {
      "image/png": "[encoded data removed]",
      "text/plain": [
       "<Figure size 432x288 with 1 Axes>"
      ]
     },
     "metadata": {},
     "output_type": "display_data"
    },
    {
     "data": {
      "image/png": "[encoded data removed]",
      "text/plain": [
       "<Figure size 432x288 with 1 Axes>"
      ]
     },
     "metadata": {},
     "output_type": "display_data"
    },
    {
     "data": {
      "image/png": "[encoded data removed]",
      "text/plain": [
       "<Figure size 432x288 with 1 Axes>"
      ]
     },
     "metadata": {},
     "output_type": "display_data"
    },
    {
     "data": {
      "image/png": "[encoded data removed]",
      "text/plain": [
       "<Figure size 432x288 with 1 Axes>"
      ]
     },
     "metadata": {},
     "output_type": "display_data"
    }
   ],
   "source": [
    "drawLoss(valLosses(AEloss, 'loss'), filename='plotLoss_AE_train.pdf', ylim=[200,50000])\n",
    "drawLoss(valLosses(DAELoss, 'loss'), filename='plotLoss_DAE_train.pdf', ylim=[200,50000])\n",
    "drawLoss(valLosses(SAELoss, 'loss'), filename='plotLoss_SAE_train.pdf', ylim=[200,50000])\n",
    "drawLoss(valLosses(DSAELoss, 'loss'), filename='plotLoss_DSAE_train.pdf', ylim=[200,50000])\n",
    "drawLoss(valLosses(DpLoss, 'loss'), filename='plotLoss_DP_train.pdf', ylim=[200,50000])\n",
    "drawLoss(valLosses(DSDAELoss, 'loss'), filename='plotLoss_DSDAE_train.pdf', ylim=[200,50000])"
   ]
  },
  {
   "cell_type": "code",
   "execution_count": 48,
   "metadata": {},
   "outputs": [
    {
     "name": "stderr",
     "output_type": "stream",
     "text": [
      "/home/mafalda/THCA/env/lib/python3.6/site-packages/ipykernel_launcher.py:3: RuntimeWarning: invalid value encountered in true_divide\n",
      "  This is separate from the ipykernel package so we can avoid doing imports until\n"
     ]
    },
    {
     "data": {
      "text/html": [
       "<div>\n",
       "<style scoped>\n",
       "    .dataframe tbody tr th:only-of-type {\n",
       "        vertical-align: middle;\n",
       "    }\n",
       "\n",
       "    .dataframe tbody tr th {\n",
       "        vertical-align: top;\n",
       "    }\n",
       "\n",
       "    .dataframe thead th {\n",
       "        text-align: right;\n",
       "    }\n",
       "</style>\n",
       "<table border=\"1\" class=\"dataframe\">\n",
       "  <thead>\n",
       "    <tr style=\"text-align: right;\">\n",
       "      <th></th>\n",
       "      <th>val_loss</th>\n",
       "      <th>val_acc</th>\n",
       "      <th>val_precision</th>\n",
       "      <th>val_recall</th>\n",
       "      <th>loss</th>\n",
       "      <th>acc</th>\n",
       "      <th>precision</th>\n",
       "      <th>recall</th>\n",
       "      <th>val_f1score</th>\n",
       "    </tr>\n",
       "  </thead>\n",
       "  <tbody>\n",
       "    <tr>\n",
       "      <th>0</th>\n",
       "      <td>7.00% (±4.28%)</td>\n",
       "      <td>98.77% (±1.00%)</td>\n",
       "      <td>99.22% (±0.80%)</td>\n",
       "      <td>99.41% (±0.89%)</td>\n",
       "      <td>2.71% (±3.52%)</td>\n",
       "      <td>99.65% (±0.46%)</td>\n",
       "      <td>99.80% (±0.32%)</td>\n",
       "      <td>99.81% (±0.21%)</td>\n",
       "      <td>99.31% (±0.57%)</td>\n",
       "    </tr>\n",
       "    <tr>\n",
       "      <th>1</th>\n",
       "      <td>14.49% (±13.44%)</td>\n",
       "      <td>98.77% (±1.33%)</td>\n",
       "      <td>99.21% (±0.82%)</td>\n",
       "      <td>99.41% (±0.87%)</td>\n",
       "      <td>0.26% (±0.32%)</td>\n",
       "      <td>99.82% (±0.24%)</td>\n",
       "      <td>99.85% (±0.22%)</td>\n",
       "      <td>99.95% (±0.11%)</td>\n",
       "      <td>99.31% (±0.75%)</td>\n",
       "    </tr>\n",
       "  </tbody>\n",
       "</table>\n",
       "</div>"
      ],
      "text/plain": [
       "           val_loss          val_acc    val_precision       val_recall  \\\n",
       "0    7.00% (±4.28%)  98.77% (±1.00%)  99.22% (±0.80%)  99.41% (±0.89%)   \n",
       "1  14.49% (±13.44%)  98.77% (±1.33%)  99.21% (±0.82%)  99.41% (±0.87%)   \n",
       "\n",
       "             loss              acc        precision           recall  \\\n",
       "0  2.71% (±3.52%)  99.65% (±0.46%)  99.80% (±0.32%)  99.81% (±0.21%)   \n",
       "1  0.26% (±0.32%)  99.82% (±0.24%)  99.85% (±0.22%)  99.95% (±0.11%)   \n",
       "\n",
       "       val_f1score  \n",
       "0  99.31% (±0.57%)  \n",
       "1  99.31% (±0.75%)  "
      ]
     },
     "execution_count": 48,
     "metadata": {},
     "output_type": "execute_result"
    }
   ],
   "source": [
    "summarizeKFold(hists, key='val_f1score', f=max)"
   ]
  },
  {
   "cell_type": "code",
   "execution_count": null,
   "metadata": {},
   "outputs": [
    {
     "name": "stdout",
     "output_type": "stream",
     "text": [
      "[FOLD 1] Training Autoencoder\n",
      "[FOLD 1] Finetuning model with top layers from Encoder\n",
      "[FOLD 1] Finetuning model with top layers from Autoencoder\n",
      "[FOLD 2] Training Autoencoder\n",
      "[FOLD 2] Finetuning model with top layers from Encoder\n",
      "[FOLD 2] Finetuning model with top layers from Autoencoder\n",
      "[FOLD 3] Training Autoencoder\n",
      "[FOLD 3] Finetuning model with top layers from Encoder\n",
      "[FOLD 3] Finetuning model with top layers from Autoencoder\n",
      "[FOLD 4] Training Autoencoder\n",
      "[FOLD 4] Finetuning model with top layers from Encoder\n",
      "[FOLD 4] Finetuning model with top layers from Autoencoder\n"
     ]
    }
   ],
   "source": [
    "hists = experienceB(newX, y, denoisingAutoEncoder(0.1), nEpochsAE=1000, nEpochs=1000, nFolds=5, trainVerbose=False,aeFineTune=True)"
   ]
  },
  {
   "cell_type": "code",
   "execution_count": null,
   "metadata": {},
   "outputs": [],
   "source": [
    "summarizeKFold(hists, key='val_f1score', f=max)"
   ]
  },
  {
   "cell_type": "code",
   "execution_count": null,
   "metadata": {},
   "outputs": [
    {
     "name": "stdout",
     "output_type": "stream",
     "text": [
      "[INFO] Training Autoencoder\n",
      "[INFO] Finetuning model with top layers from Encoder\n",
      "[INFO] Finetuning model with top layers from Autoencoder\n",
      "[INFO] Training Autoencoder\n",
      "[INFO] Finetuning model with top layers from Encoder\n",
      "[INFO] Finetuning model with top layers from Autoencoder\n",
      "[INFO] Training Autoencoder\n",
      "[INFO] Finetuning model with top layers from Encoder\n",
      "[INFO] Finetuning model with top layers from Autoencoder\n"
     ]
    }
   ],
   "source": [
    "hists = experienceB(newX, y, sparseAutoEncoder(), nEpochsAE=1000, nEpochs=1000, nFolds=5, trainVerbose=False,aeFineTune=True)"
   ]
  },
  {
   "cell_type": "code",
   "execution_count": 56,
   "metadata": {},
   "outputs": [
    {
     "data": {
      "text/html": [
       "<div>\n",
       "<style scoped>\n",
       "    .dataframe tbody tr th:only-of-type {\n",
       "        vertical-align: middle;\n",
       "    }\n",
       "\n",
       "    .dataframe tbody tr th {\n",
       "        vertical-align: top;\n",
       "    }\n",
       "\n",
       "    .dataframe thead th {\n",
       "        text-align: right;\n",
       "    }\n",
       "</style>\n",
       "<table border=\"1\" class=\"dataframe\">\n",
       "  <thead>\n",
       "    <tr style=\"text-align: right;\">\n",
       "      <th></th>\n",
       "      <th>val_loss</th>\n",
       "      <th>val_acc</th>\n",
       "      <th>val_precision</th>\n",
       "      <th>val_recall</th>\n",
       "      <th>loss</th>\n",
       "      <th>acc</th>\n",
       "      <th>precision</th>\n",
       "      <th>recall</th>\n",
       "      <th>val_f1score</th>\n",
       "    </tr>\n",
       "  </thead>\n",
       "  <tbody>\n",
       "    <tr>\n",
       "      <th>0</th>\n",
       "      <td>8520.52% (±6800.11%)</td>\n",
       "      <td>89.61% (±0.69%)</td>\n",
       "      <td>89.77% (±0.46%)</td>\n",
       "      <td>99.80% (±0.45%)</td>\n",
       "      <td>11643.59% (±9920.08%)</td>\n",
       "      <td>87.02% (±3.94%)</td>\n",
       "      <td>89.70% (±0.14%)</td>\n",
       "      <td>96.61% (±4.98%)</td>\n",
       "      <td>94.52% (±0.39%)</td>\n",
       "    </tr>\n",
       "    <tr>\n",
       "      <th>1</th>\n",
       "      <td>2380.35% (±2175.17%)</td>\n",
       "      <td>89.97% (±0.45%)</td>\n",
       "      <td>89.95% (±0.43%)</td>\n",
       "      <td>100.00% (±0.00%)</td>\n",
       "      <td>2847.17% (±2390.62%)</td>\n",
       "      <td>89.26% (±0.67%)</td>\n",
       "      <td>89.84% (±0.15%)</td>\n",
       "      <td>99.27% (±0.97%)</td>\n",
       "      <td>94.71% (±0.24%)</td>\n",
       "    </tr>\n",
       "  </tbody>\n",
       "</table>\n",
       "</div>"
      ],
      "text/plain": [
       "               val_loss          val_acc    val_precision        val_recall  \\\n",
       "0  8520.52% (±6800.11%)  89.61% (±0.69%)  89.77% (±0.46%)   99.80% (±0.45%)   \n",
       "1  2380.35% (±2175.17%)  89.97% (±0.45%)  89.95% (±0.43%)  100.00% (±0.00%)   \n",
       "\n",
       "                    loss              acc        precision           recall  \\\n",
       "0  11643.59% (±9920.08%)  87.02% (±3.94%)  89.70% (±0.14%)  96.61% (±4.98%)   \n",
       "1   2847.17% (±2390.62%)  89.26% (±0.67%)  89.84% (±0.15%)  99.27% (±0.97%)   \n",
       "\n",
       "       val_f1score  \n",
       "0  94.52% (±0.39%)  \n",
       "1  94.71% (±0.24%)  "
      ]
     },
     "execution_count": 56,
     "metadata": {},
     "output_type": "execute_result"
    }
   ],
   "source": [
    "summarizeKFold(hists, key='val_f1score', f=max)"
   ]
  },
  {
   "cell_type": "code",
   "execution_count": null,
   "metadata": {},
   "outputs": [
    {
     "name": "stdout",
     "output_type": "stream",
     "text": [
      "[FOLD 1] Training Autoencoder\n",
      "[FOLD 1] Finetuning model with top layers from Encoder\n",
      "[FOLD 1] Finetuning model with top layers from Autoencoder\n",
      "[FOLD 2] Training Autoencoder\n",
      "[FOLD 2] Finetuning model with top layers from Encoder\n",
      "[FOLD 2] Finetuning model with top layers from Autoencoder\n",
      "[FOLD 3] Training Autoencoder\n",
      "[FOLD 3] Finetuning model with top layers from Encoder\n",
      "[FOLD 3] Finetuning model with top layers from Autoencoder\n"
     ]
    }
   ],
   "source": [
    "hists = experienceB(newX, y, sparseAutoEncoder(encodingDim = 512), nEpochsAE=1000, nEpochs=1000, nFolds=5, trainVerbose=False,aeFineTune=True)"
   ]
  },
  {
   "cell_type": "code",
   "execution_count": 57,
   "metadata": {
    "scrolled": true
   },
   "outputs": [
    {
     "name": "stdout",
     "output_type": "stream",
     "text": [
      "[INFO] Training Autoencoder\n",
      "[INFO] Finetuning model with top layers from Encoder\n",
      "[INFO] Finetuning model with top layers from Autoencoder\n",
      "[INFO] Training Autoencoder\n",
      "[INFO] Finetuning model with top layers from Encoder\n",
      "[INFO] Finetuning model with top layers from Autoencoder\n",
      "[INFO] Training Autoencoder\n",
      "[INFO] Finetuning model with top layers from Encoder\n",
      "[INFO] Finetuning model with top layers from Autoencoder\n",
      "[INFO] Training Autoencoder\n",
      "[INFO] Finetuning model with top layers from Encoder\n",
      "[INFO] Finetuning model with top layers from Autoencoder\n",
      "[INFO] Training Autoencoder\n",
      "[INFO] Finetuning model with top layers from Encoder\n",
      "[INFO] Finetuning model with top layers from Autoencoder\n"
     ]
    }
   ],
   "source": [
    "hists = experienceB(newX, y, deepAutoEncoder(), nEpochsAE=1000, nEpochs=1000, nFolds=5, trainVerbose=False,aeFineTune=True)"
   ]
  },
  {
   "cell_type": "code",
   "execution_count": 59,
   "metadata": {},
   "outputs": [
    {
     "name": "stderr",
     "output_type": "stream",
     "text": [
      "/home/mafalda/THCA/env/lib/python3.6/site-packages/ipykernel_launcher.py:3: RuntimeWarning: invalid value encountered in true_divide\n",
      "  This is separate from the ipykernel package so we can avoid doing imports until\n"
     ]
    },
    {
     "data": {
      "text/html": [
       "<div>\n",
       "<style scoped>\n",
       "    .dataframe tbody tr th:only-of-type {\n",
       "        vertical-align: middle;\n",
       "    }\n",
       "\n",
       "    .dataframe tbody tr th {\n",
       "        vertical-align: top;\n",
       "    }\n",
       "\n",
       "    .dataframe thead th {\n",
       "        text-align: right;\n",
       "    }\n",
       "</style>\n",
       "<table border=\"1\" class=\"dataframe\">\n",
       "  <thead>\n",
       "    <tr style=\"text-align: right;\">\n",
       "      <th></th>\n",
       "      <th>val_loss</th>\n",
       "      <th>val_acc</th>\n",
       "      <th>val_precision</th>\n",
       "      <th>val_recall</th>\n",
       "      <th>loss</th>\n",
       "      <th>acc</th>\n",
       "      <th>precision</th>\n",
       "      <th>recall</th>\n",
       "      <th>val_f1score</th>\n",
       "    </tr>\n",
       "  </thead>\n",
       "  <tbody>\n",
       "    <tr>\n",
       "      <th>0</th>\n",
       "      <td>12.55% (±12.27%)</td>\n",
       "      <td>98.77% (±1.00%)</td>\n",
       "      <td>99.22% (±0.80%)</td>\n",
       "      <td>99.41% (±0.89%)</td>\n",
       "      <td>0.18% (±0.22%)</td>\n",
       "      <td>100.00% (±0.00%)</td>\n",
       "      <td>100.00% (±0.00%)</td>\n",
       "      <td>100.00% (±0.00%)</td>\n",
       "      <td>99.31% (±0.57%)</td>\n",
       "    </tr>\n",
       "    <tr>\n",
       "      <th>1</th>\n",
       "      <td>18.14% (±13.19%)</td>\n",
       "      <td>98.59% (±1.18%)</td>\n",
       "      <td>99.21% (±0.44%)</td>\n",
       "      <td>99.21% (±1.08%)</td>\n",
       "      <td>2.86% (±4.66%)</td>\n",
       "      <td>99.12% (±0.95%)</td>\n",
       "      <td>99.60% (±0.45%)</td>\n",
       "      <td>99.41% (±1.04%)</td>\n",
       "      <td>99.21% (±0.67%)</td>\n",
       "    </tr>\n",
       "  </tbody>\n",
       "</table>\n",
       "</div>"
      ],
      "text/plain": [
       "           val_loss          val_acc    val_precision       val_recall  \\\n",
       "0  12.55% (±12.27%)  98.77% (±1.00%)  99.22% (±0.80%)  99.41% (±0.89%)   \n",
       "1  18.14% (±13.19%)  98.59% (±1.18%)  99.21% (±0.44%)  99.21% (±1.08%)   \n",
       "\n",
       "             loss               acc         precision            recall  \\\n",
       "0  0.18% (±0.22%)  100.00% (±0.00%)  100.00% (±0.00%)  100.00% (±0.00%)   \n",
       "1  2.86% (±4.66%)   99.12% (±0.95%)   99.60% (±0.45%)   99.41% (±1.04%)   \n",
       "\n",
       "       val_f1score  \n",
       "0  99.31% (±0.57%)  \n",
       "1  99.21% (±0.67%)  "
      ]
     },
     "execution_count": 59,
     "metadata": {},
     "output_type": "execute_result"
    }
   ],
   "source": [
    "summarizeKFold(hists, key='val_f1score', f=max)"
   ]
  },
  {
   "cell_type": "code",
   "execution_count": 17,
   "metadata": {},
   "outputs": [
    {
     "name": "stdout",
     "output_type": "stream",
     "text": [
      "[FOLD 1] Training Autoencoder\n",
      "[FOLD 1] Finetuning model with top layers from Encoder\n",
      "[FOLD 1] Finetuning model with top layers from Autoencoder\n",
      "[FOLD 2] Training Autoencoder\n",
      "[FOLD 2] Finetuning model with top layers from Encoder\n",
      "[FOLD 2] Finetuning model with top layers from Autoencoder\n",
      "[FOLD 3] Training Autoencoder\n",
      "[FOLD 3] Finetuning model with top layers from Encoder\n",
      "[FOLD 3] Finetuning model with top layers from Autoencoder\n",
      "[FOLD 4] Training Autoencoder\n",
      "[FOLD 4] Finetuning model with top layers from Encoder\n",
      "[FOLD 4] Finetuning model with top layers from Autoencoder\n",
      "[FOLD 5] Training Autoencoder\n",
      "[FOLD 5] Finetuning model with top layers from Encoder\n",
      "[FOLD 5] Finetuning model with top layers from Autoencoder\n"
     ]
    },
    {
     "name": "stderr",
     "output_type": "stream",
     "text": [
      "/home/mafalda/THCA/env/lib/python3.6/site-packages/ipykernel_launcher.py:3: RuntimeWarning: invalid value encountered in true_divide\n",
      "  This is separate from the ipykernel package so we can avoid doing imports until\n"
     ]
    },
    {
     "data": {
      "text/html": [
       "<div>\n",
       "<style scoped>\n",
       "    .dataframe tbody tr th:only-of-type {\n",
       "        vertical-align: middle;\n",
       "    }\n",
       "\n",
       "    .dataframe tbody tr th {\n",
       "        vertical-align: top;\n",
       "    }\n",
       "\n",
       "    .dataframe thead th {\n",
       "        text-align: right;\n",
       "    }\n",
       "</style>\n",
       "<table border=\"1\" class=\"dataframe\">\n",
       "  <thead>\n",
       "    <tr style=\"text-align: right;\">\n",
       "      <th></th>\n",
       "      <th>val_loss</th>\n",
       "      <th>val_acc</th>\n",
       "      <th>val_precision</th>\n",
       "      <th>val_recall</th>\n",
       "      <th>loss</th>\n",
       "      <th>acc</th>\n",
       "      <th>precision</th>\n",
       "      <th>recall</th>\n",
       "      <th>val_f1score</th>\n",
       "    </tr>\n",
       "  </thead>\n",
       "  <tbody>\n",
       "    <tr>\n",
       "      <th>0</th>\n",
       "      <td>6107.77% (±5463.60%)</td>\n",
       "      <td>89.79% (±0.43%)</td>\n",
       "      <td>89.79% (±0.43%)</td>\n",
       "      <td>100.00% (±0.00%)</td>\n",
       "      <td>9614.16% (±8185.25%)</td>\n",
       "      <td>87.94% (±1.87%)</td>\n",
       "      <td>90.66% (±1.97%)</td>\n",
       "      <td>96.67% (±4.36%)</td>\n",
       "      <td>94.62% (±0.24%)</td>\n",
       "    </tr>\n",
       "    <tr>\n",
       "      <th>1</th>\n",
       "      <td>9650.12% (±4953.88%)</td>\n",
       "      <td>89.97% (±0.45%)</td>\n",
       "      <td>90.58% (±1.63%)</td>\n",
       "      <td>99.25% (±1.68%)</td>\n",
       "      <td>15219.44% (±7537.84%)</td>\n",
       "      <td>86.58% (±5.18%)</td>\n",
       "      <td>91.29% (±1.42%)</td>\n",
       "      <td>93.96% (±7.63%)</td>\n",
       "      <td>94.69% (±0.23%)</td>\n",
       "    </tr>\n",
       "  </tbody>\n",
       "</table>\n",
       "</div>"
      ],
      "text/plain": [
       "               val_loss          val_acc    val_precision        val_recall  \\\n",
       "0  6107.77% (±5463.60%)  89.79% (±0.43%)  89.79% (±0.43%)  100.00% (±0.00%)   \n",
       "1  9650.12% (±4953.88%)  89.97% (±0.45%)  90.58% (±1.63%)   99.25% (±1.68%)   \n",
       "\n",
       "                    loss              acc        precision           recall  \\\n",
       "0   9614.16% (±8185.25%)  87.94% (±1.87%)  90.66% (±1.97%)  96.67% (±4.36%)   \n",
       "1  15219.44% (±7537.84%)  86.58% (±5.18%)  91.29% (±1.42%)  93.96% (±7.63%)   \n",
       "\n",
       "       val_f1score  \n",
       "0  94.62% (±0.24%)  \n",
       "1  94.69% (±0.23%)  "
      ]
     },
     "execution_count": 17,
     "metadata": {},
     "output_type": "execute_result"
    }
   ],
   "source": [
    "histsxpto = experienceB(newX, y, deepSparseDenoisingAutoEncoder(dims=[1024, 512, 256]), nEpochsAE=1000, nEpochs=1000, nFolds=5, trainVerbose=False,aeFineTune=True)\n",
    "summarizeKFold(histsxpto, key='val_f1score', f=max)"
   ]
  },
  {
   "cell_type": "code",
   "execution_count": 19,
   "metadata": {},
   "outputs": [
    {
     "name": "stdout",
     "output_type": "stream",
     "text": [
      "[FOLD 1] Training Autoencoder\n",
      "[FOLD 1] Finetuning model with top layers from Encoder\n",
      "[FOLD 1] Finetuning model with top layers from Autoencoder\n",
      "[FOLD 2] Training Autoencoder\n",
      "[FOLD 2] Finetuning model with top layers from Encoder\n",
      "[FOLD 2] Finetuning model with top layers from Autoencoder\n",
      "[FOLD 3] Training Autoencoder\n",
      "[FOLD 3] Finetuning model with top layers from Encoder\n",
      "[FOLD 3] Finetuning model with top layers from Autoencoder\n",
      "[FOLD 4] Training Autoencoder\n",
      "[FOLD 4] Finetuning model with top layers from Encoder\n",
      "[FOLD 4] Finetuning model with top layers from Autoencoder\n",
      "[FOLD 5] Training Autoencoder\n",
      "[FOLD 5] Finetuning model with top layers from Encoder\n",
      "[FOLD 5] Finetuning model with top layers from Autoencoder\n"
     ]
    },
    {
     "data": {
      "text/plain": [
       "'\\\\begin{tabular}{llllllllll}\\n\\\\toprule\\n{} &              val\\\\_loss &          val\\\\_acc &    val\\\\_precision &        val\\\\_recall &                   loss &              acc &        precision &           recall &      val\\\\_f1score \\\\\\\\\\n\\\\midrule\\n0 &  9516.41\\\\% (±3278.30\\\\%) &  89.79\\\\% (±0.43\\\\%) &  89.79\\\\% (±0.43\\\\%) &  100.00\\\\% (±0.00\\\\%) &  15109.13\\\\% (±6438.70\\\\%) &  85.56\\\\% (±4.07\\\\%) &  89.53\\\\% (±0.32\\\\%) &  94.99\\\\% (±4.80\\\\%) &  94.62\\\\% (±0.24\\\\%) \\\\\\\\\\n1 &  5546.00\\\\% (±4184.81\\\\%) &  90.32\\\\% (±0.86\\\\%) &  90.89\\\\% (±1.94\\\\%) &   99.20\\\\% (±1.78\\\\%) &   7539.46\\\\% (±5508.54\\\\%) &  87.19\\\\% (±5.85\\\\%) &  92.18\\\\% (±1.63\\\\%) &  94.10\\\\% (±6.36\\\\%) &  94.83\\\\% (±0.39\\\\%) \\\\\\\\\\n\\\\bottomrule\\n\\\\end{tabular}\\n'"
      ]
     },
     "execution_count": 19,
     "metadata": {},
     "output_type": "execute_result"
    }
   ],
   "source": [
    "hists = experienceB(newX, y, denoisingSparseAutoEncoder(), nEpochsAE=1000, nEpochs=1000, nFolds=5, trainVerbose=False,aeFineTune=True)\n",
    "summarizeKFold(hists, key='val_f1score', f=max).to_latex()"
   ]
  },
  {
   "cell_type": "code",
   "execution_count": 20,
   "metadata": {},
   "outputs": [
    {
     "data": {
      "text/html": [
       "<div>\n",
       "<style scoped>\n",
       "    .dataframe tbody tr th:only-of-type {\n",
       "        vertical-align: middle;\n",
       "    }\n",
       "\n",
       "    .dataframe tbody tr th {\n",
       "        vertical-align: top;\n",
       "    }\n",
       "\n",
       "    .dataframe thead th {\n",
       "        text-align: right;\n",
       "    }\n",
       "</style>\n",
       "<table border=\"1\" class=\"dataframe\">\n",
       "  <thead>\n",
       "    <tr style=\"text-align: right;\">\n",
       "      <th></th>\n",
       "      <th>val_loss</th>\n",
       "      <th>val_acc</th>\n",
       "      <th>val_precision</th>\n",
       "      <th>val_recall</th>\n",
       "      <th>loss</th>\n",
       "      <th>acc</th>\n",
       "      <th>precision</th>\n",
       "      <th>recall</th>\n",
       "      <th>val_f1score</th>\n",
       "    </tr>\n",
       "  </thead>\n",
       "  <tbody>\n",
       "    <tr>\n",
       "      <th>0</th>\n",
       "      <td>9516.41% (±3278.30%)</td>\n",
       "      <td>89.79% (±0.43%)</td>\n",
       "      <td>89.79% (±0.43%)</td>\n",
       "      <td>100.00% (±0.00%)</td>\n",
       "      <td>15109.13% (±6438.70%)</td>\n",
       "      <td>85.56% (±4.07%)</td>\n",
       "      <td>89.53% (±0.32%)</td>\n",
       "      <td>94.99% (±4.80%)</td>\n",
       "      <td>94.62% (±0.24%)</td>\n",
       "    </tr>\n",
       "    <tr>\n",
       "      <th>1</th>\n",
       "      <td>5546.00% (±4184.81%)</td>\n",
       "      <td>90.32% (±0.86%)</td>\n",
       "      <td>90.89% (±1.94%)</td>\n",
       "      <td>99.20% (±1.78%)</td>\n",
       "      <td>7539.46% (±5508.54%)</td>\n",
       "      <td>87.19% (±5.85%)</td>\n",
       "      <td>92.18% (±1.63%)</td>\n",
       "      <td>94.10% (±6.36%)</td>\n",
       "      <td>94.83% (±0.39%)</td>\n",
       "    </tr>\n",
       "  </tbody>\n",
       "</table>\n",
       "</div>"
      ],
      "text/plain": [
       "               val_loss          val_acc    val_precision        val_recall  \\\n",
       "0  9516.41% (±3278.30%)  89.79% (±0.43%)  89.79% (±0.43%)  100.00% (±0.00%)   \n",
       "1  5546.00% (±4184.81%)  90.32% (±0.86%)  90.89% (±1.94%)   99.20% (±1.78%)   \n",
       "\n",
       "                    loss              acc        precision           recall  \\\n",
       "0  15109.13% (±6438.70%)  85.56% (±4.07%)  89.53% (±0.32%)  94.99% (±4.80%)   \n",
       "1   7539.46% (±5508.54%)  87.19% (±5.85%)  92.18% (±1.63%)  94.10% (±6.36%)   \n",
       "\n",
       "       val_f1score  \n",
       "0  94.62% (±0.24%)  \n",
       "1  94.83% (±0.39%)  "
      ]
     },
     "execution_count": 20,
     "metadata": {},
     "output_type": "execute_result"
    }
   ],
   "source": [
    "summarizeKFold(hists, key='val_f1score', f=max)"
   ]
  },
  {
   "cell_type": "markdown",
   "metadata": {},
   "source": [
    "Fixed-Weights Experiments"
   ]
  },
  {
   "cell_type": "code",
   "execution_count": 14,
   "metadata": {},
   "outputs": [
    {
     "ename": "NameError",
     "evalue": "name 'basicAutoEncoder' is not defined",
     "output_type": "error",
     "traceback": [
      "\u001b[0;31m---------------------------------------------------------------------------\u001b[0m",
      "\u001b[0;31mNameError\u001b[0m                                 Traceback (most recent call last)",
      "\u001b[0;32m<ipython-input-14-6c8bb7f1fc21>\u001b[0m in \u001b[0;36m<module>\u001b[0;34m()\u001b[0m\n\u001b[0;32m----> 1\u001b[0;31m \u001b[0mhists\u001b[0m \u001b[0;34m=\u001b[0m \u001b[0mexperienceB\u001b[0m\u001b[0;34m(\u001b[0m\u001b[0mnewX\u001b[0m\u001b[0;34m,\u001b[0m \u001b[0my\u001b[0m\u001b[0;34m,\u001b[0m \u001b[0mbasicAutoEncoder\u001b[0m\u001b[0;34m(\u001b[0m\u001b[0;34m)\u001b[0m\u001b[0;34m,\u001b[0m \u001b[0mnEpochsAE\u001b[0m\u001b[0;34m=\u001b[0m\u001b[0;36m1\u001b[0m\u001b[0;34m,\u001b[0m \u001b[0mnEpochs\u001b[0m\u001b[0;34m=\u001b[0m\u001b[0;36m1\u001b[0m\u001b[0;34m,\u001b[0m \u001b[0mnFolds\u001b[0m\u001b[0;34m=\u001b[0m\u001b[0;36m2\u001b[0m\u001b[0;34m,\u001b[0m \u001b[0mtrainVerbose\u001b[0m\u001b[0;34m=\u001b[0m\u001b[0;32mTrue\u001b[0m\u001b[0;34m,\u001b[0m\u001b[0maeFineTune\u001b[0m\u001b[0;34m=\u001b[0m\u001b[0;32mFalse\u001b[0m\u001b[0;34m)\u001b[0m\u001b[0;34m\u001b[0m\u001b[0m\n\u001b[0m\u001b[1;32m      2\u001b[0m \u001b[0msummarizeKFold\u001b[0m\u001b[0;34m(\u001b[0m\u001b[0mhists\u001b[0m\u001b[0;34m,\u001b[0m \u001b[0mkey\u001b[0m\u001b[0;34m=\u001b[0m\u001b[0;34m'val_accuracy'\u001b[0m\u001b[0;34m,\u001b[0m \u001b[0mf\u001b[0m\u001b[0;34m=\u001b[0m\u001b[0mmax\u001b[0m\u001b[0;34m)\u001b[0m\u001b[0;34m.\u001b[0m\u001b[0mto_latex\u001b[0m\u001b[0;34m(\u001b[0m\u001b[0;34m)\u001b[0m\u001b[0;34m\u001b[0m\u001b[0m\n",
      "\u001b[0;31mNameError\u001b[0m: name 'basicAutoEncoder' is not defined"
     ]
    }
   ],
   "source": [
    "hists = experienceB(newX, y, basicAutoEncoder(), nEpochsAE=1, nEpochs=1, nFolds=2, trainVerbose=True,aeFineTune=False)\n",
    "summarizeKFold(hists, key='val_accuracy', f=max).to_latex()"
   ]
  },
  {
   "cell_type": "code",
   "execution_count": 22,
   "metadata": {},
   "outputs": [
    {
     "name": "stdout",
     "output_type": "stream",
     "text": [
      "[FOLD 1] Training Autoencoder\n",
      "[FOLD 1] Finetuning model with top layers from Encoder\n",
      "[FOLD 1] Finetuning model with top layers from Autoencoder\n",
      "[FOLD 2] Training Autoencoder\n",
      "[FOLD 2] Finetuning model with top layers from Encoder\n",
      "[FOLD 2] Finetuning model with top layers from Autoencoder\n",
      "[FOLD 3] Training Autoencoder\n",
      "[FOLD 3] Finetuning model with top layers from Encoder\n",
      "[FOLD 3] Finetuning model with top layers from Autoencoder\n",
      "[FOLD 4] Training Autoencoder\n",
      "[FOLD 4] Finetuning model with top layers from Encoder\n",
      "[FOLD 4] Finetuning model with top layers from Autoencoder\n",
      "[FOLD 5] Training Autoencoder\n",
      "[FOLD 5] Finetuning model with top layers from Encoder\n",
      "[FOLD 5] Finetuning model with top layers from Autoencoder\n"
     ]
    },
    {
     "data": {
      "text/plain": [
       "'\\\\begin{tabular}{llllllllll}\\n\\\\toprule\\n{} &          val\\\\_loss &          val\\\\_acc &    val\\\\_precision &       val\\\\_recall &            loss &              acc &         precision &           recall &      val\\\\_f1score \\\\\\\\\\n\\\\midrule\\n0 &  13.40\\\\% (±10.87\\\\%) &  98.59\\\\% (±1.59\\\\%) &  99.22\\\\% (±0.81\\\\%) &  99.21\\\\% (±1.30\\\\%) &  2.00\\\\% (±2.73\\\\%) &  99.43\\\\% (±0.91\\\\%) &   99.70\\\\% (±0.54\\\\%) &  99.67\\\\% (±0.49\\\\%) &  99.21\\\\% (±0.91\\\\%) \\\\\\\\\\n1 &  15.57\\\\% (±14.74\\\\%) &  98.59\\\\% (±1.59\\\\%) &  99.03\\\\% (±1.17\\\\%) &  99.41\\\\% (±0.89\\\\%) &  0.11\\\\% (±0.08\\\\%) &  99.96\\\\% (±0.10\\\\%) &  100.00\\\\% (±0.00\\\\%) &  99.95\\\\% (±0.11\\\\%) &  99.22\\\\% (±0.89\\\\%) \\\\\\\\\\n\\\\bottomrule\\n\\\\end{tabular}\\n'"
      ]
     },
     "execution_count": 22,
     "metadata": {},
     "output_type": "execute_result"
    }
   ],
   "source": [
    "hists = experienceB(newX, y, denoisingAutoEncoder(), nEpochsAE=1000, nEpochs=1000, nFolds=5, trainVerbose=False,aeFineTune=False)\n",
    "summarizeKFold(hists, key='val_f1score', f=max).to_latex()"
   ]
  },
  {
   "cell_type": "code",
   "execution_count": 23,
   "metadata": {},
   "outputs": [
    {
     "name": "stdout",
     "output_type": "stream",
     "text": [
      "[FOLD 1] Training Autoencoder\n",
      "[FOLD 1] Finetuning model with top layers from Encoder\n",
      "[FOLD 1] Finetuning model with top layers from Autoencoder\n",
      "[FOLD 2] Training Autoencoder\n",
      "[FOLD 2] Finetuning model with top layers from Encoder\n",
      "[FOLD 2] Finetuning model with top layers from Autoencoder\n",
      "[FOLD 3] Training Autoencoder\n",
      "[FOLD 3] Finetuning model with top layers from Encoder\n",
      "[FOLD 3] Finetuning model with top layers from Autoencoder\n",
      "[FOLD 4] Training Autoencoder\n",
      "[FOLD 4] Finetuning model with top layers from Encoder\n",
      "[FOLD 4] Finetuning model with top layers from Autoencoder\n",
      "[FOLD 5] Training Autoencoder\n",
      "[FOLD 5] Finetuning model with top layers from Encoder\n",
      "[FOLD 5] Finetuning model with top layers from Autoencoder\n"
     ]
    },
    {
     "data": {
      "text/plain": [
       "'\\\\begin{tabular}{llllllllll}\\n\\\\toprule\\n{} &               val\\\\_loss &          val\\\\_acc &    val\\\\_precision &       val\\\\_recall &                   loss &              acc &        precision &           recall &      val\\\\_f1score \\\\\\\\\\n\\\\midrule\\n0 &  30126.94\\\\% (±1972.50\\\\%) &  97.36\\\\% (±2.23\\\\%) &  97.88\\\\% (±1.72\\\\%) &  99.21\\\\% (±0.83\\\\%) &  32718.55\\\\% (±2859.56\\\\%) &  97.49\\\\% (±2.21\\\\%) &  98.02\\\\% (±2.39\\\\%) &  99.28\\\\% (±0.68\\\\%) &  98.54\\\\% (±1.25\\\\%) \\\\\\\\\\n1 &  30133.73\\\\% (±1963.46\\\\%) &  97.72\\\\% (±2.45\\\\%) &  99.21\\\\% (±1.26\\\\%) &  98.22\\\\% (±2.04\\\\%) &  32634.12\\\\% (±2745.43\\\\%) &  98.68\\\\% (±2.24\\\\%) &  99.20\\\\% (±1.66\\\\%) &  99.36\\\\% (±0.84\\\\%) &  98.71\\\\% (±1.40\\\\%) \\\\\\\\\\n\\\\bottomrule\\n\\\\end{tabular}\\n'"
      ]
     },
     "execution_count": 23,
     "metadata": {},
     "output_type": "execute_result"
    }
   ],
   "source": [
    "hists = experienceB(newX, y, sparseAutoEncoder(), nEpochsAE=1000, nEpochs=1000, nFolds=5, trainVerbose=False,aeFineTune=False)\n",
    "summarizeKFold(hists, key='val_f1score', f=max).to_latex()"
   ]
  },
  {
   "cell_type": "code",
   "execution_count": 24,
   "metadata": {},
   "outputs": [
    {
     "name": "stdout",
     "output_type": "stream",
     "text": [
      "[FOLD 1] Training Autoencoder\n",
      "[FOLD 1] Finetuning model with top layers from Encoder\n",
      "[FOLD 1] Finetuning model with top layers from Autoencoder\n",
      "[FOLD 2] Training Autoencoder\n",
      "[FOLD 2] Finetuning model with top layers from Encoder\n",
      "[FOLD 2] Finetuning model with top layers from Autoencoder\n",
      "[FOLD 3] Training Autoencoder\n",
      "[FOLD 3] Finetuning model with top layers from Encoder\n",
      "[FOLD 3] Finetuning model with top layers from Autoencoder\n",
      "[FOLD 4] Training Autoencoder\n",
      "[FOLD 4] Finetuning model with top layers from Encoder\n",
      "[FOLD 4] Finetuning model with top layers from Autoencoder\n",
      "[FOLD 5] Training Autoencoder\n",
      "[FOLD 5] Finetuning model with top layers from Encoder\n",
      "[FOLD 5] Finetuning model with top layers from Autoencoder\n"
     ]
    },
    {
     "data": {
      "text/plain": [
       "'\\\\begin{tabular}{llllllllll}\\n\\\\toprule\\n{} &               val\\\\_loss &          val\\\\_acc &    val\\\\_precision &       val\\\\_recall &                   loss &              acc &        precision &           recall &      val\\\\_f1score \\\\\\\\\\n\\\\midrule\\n0 &  27713.78\\\\% (±1662.52\\\\%) &  98.59\\\\% (±1.00\\\\%) &  99.62\\\\% (±0.85\\\\%) &  98.82\\\\% (±1.29\\\\%) &  34276.37\\\\% (±3299.86\\\\%) &  99.78\\\\% (±0.27\\\\%) &  99.90\\\\% (±0.13\\\\%) &  99.85\\\\% (±0.22\\\\%) &  99.21\\\\% (±0.57\\\\%) \\\\\\\\\\n1 &  27714.13\\\\% (±1664.41\\\\%) &  98.77\\\\% (±1.00\\\\%) &  99.41\\\\% (±0.88\\\\%) &  99.21\\\\% (±0.44\\\\%) &  34461.33\\\\% (±3222.26\\\\%) &  98.64\\\\% (±1.59\\\\%) &  98.93\\\\% (±1.15\\\\%) &  99.56\\\\% (±0.60\\\\%) &  99.31\\\\% (±0.56\\\\%) \\\\\\\\\\n\\\\bottomrule\\n\\\\end{tabular}\\n'"
      ]
     },
     "execution_count": 24,
     "metadata": {},
     "output_type": "execute_result"
    }
   ],
   "source": [
    "hists = experienceB(newX, y, denoisingSparseAutoEncoder(), nEpochsAE=1000, nEpochs=1000, nFolds=5, trainVerbose=False,aeFineTune=False)\n",
    "summarizeKFold(hists, key='val_f1score', f=max).to_latex()"
   ]
  },
  {
   "cell_type": "code",
   "execution_count": 19,
   "metadata": {},
   "outputs": [
    {
     "name": "stdout",
     "output_type": "stream",
     "text": [
      "[FOLD 1] Training Autoencoder\n",
      "[FOLD 1] Finetuning model with top layers from Encoder\n",
      "[FOLD 1] Finetuning model with top layers from Autoencoder\n",
      "[FOLD 2] Training Autoencoder\n",
      "[FOLD 2] Finetuning model with top layers from Encoder\n",
      "[FOLD 2] Finetuning model with top layers from Autoencoder\n",
      "[FOLD 3] Training Autoencoder\n",
      "[FOLD 3] Finetuning model with top layers from Encoder\n",
      "[FOLD 3] Finetuning model with top layers from Autoencoder\n",
      "[FOLD 4] Training Autoencoder\n",
      "[FOLD 4] Finetuning model with top layers from Encoder\n",
      "[FOLD 4] Finetuning model with top layers from Autoencoder\n",
      "[FOLD 5] Training Autoencoder\n",
      "[FOLD 5] Finetuning model with top layers from Encoder\n",
      "[FOLD 5] Finetuning model with top layers from Autoencoder\n"
     ]
    },
    {
     "data": {
      "text/html": [
       "<div>\n",
       "<style scoped>\n",
       "    .dataframe tbody tr th:only-of-type {\n",
       "        vertical-align: middle;\n",
       "    }\n",
       "\n",
       "    .dataframe tbody tr th {\n",
       "        vertical-align: top;\n",
       "    }\n",
       "\n",
       "    .dataframe thead th {\n",
       "        text-align: right;\n",
       "    }\n",
       "</style>\n",
       "<table border=\"1\" class=\"dataframe\">\n",
       "  <thead>\n",
       "    <tr style=\"text-align: right;\">\n",
       "      <th></th>\n",
       "      <th>val_loss</th>\n",
       "      <th>val_acc</th>\n",
       "      <th>val_precision</th>\n",
       "      <th>val_recall</th>\n",
       "      <th>val_f1_score</th>\n",
       "      <th>loss</th>\n",
       "      <th>acc</th>\n",
       "      <th>precision</th>\n",
       "      <th>recall</th>\n",
       "      <th>f1_score</th>\n",
       "    </tr>\n",
       "  </thead>\n",
       "  <tbody>\n",
       "    <tr>\n",
       "      <th>0</th>\n",
       "      <td>14.79% (±8.29%)</td>\n",
       "      <td>97.01% (±1.46%)</td>\n",
       "      <td>97.72% (±1.71%)</td>\n",
       "      <td>99.03% (±1.19%)</td>\n",
       "      <td>98.35% (±0.81%)</td>\n",
       "      <td>5.87% (±7.24%)</td>\n",
       "      <td>97.75% (±3.34%)</td>\n",
       "      <td>98.21% (±3.21%)</td>\n",
       "      <td>99.42% (±0.37%)</td>\n",
       "      <td>98.78% (±1.79%)</td>\n",
       "    </tr>\n",
       "    <tr>\n",
       "      <th>1</th>\n",
       "      <td>39.45% (±31.76%)</td>\n",
       "      <td>94.38% (±4.46%)</td>\n",
       "      <td>97.06% (±2.19%)</td>\n",
       "      <td>96.67% (±3.14%)</td>\n",
       "      <td>96.85% (±2.51%)</td>\n",
       "      <td>0.72% (±0.90%)</td>\n",
       "      <td>99.78% (±0.31%)</td>\n",
       "      <td>99.90% (±0.22%)</td>\n",
       "      <td>99.85% (±0.22%)</td>\n",
       "      <td>99.88% (±0.18%)</td>\n",
       "    </tr>\n",
       "  </tbody>\n",
       "</table>\n",
       "</div>"
      ],
      "text/plain": [
       "           val_loss          val_acc    val_precision       val_recall  \\\n",
       "0   14.79% (±8.29%)  97.01% (±1.46%)  97.72% (±1.71%)  99.03% (±1.19%)   \n",
       "1  39.45% (±31.76%)  94.38% (±4.46%)  97.06% (±2.19%)  96.67% (±3.14%)   \n",
       "\n",
       "      val_f1_score            loss              acc        precision  \\\n",
       "0  98.35% (±0.81%)  5.87% (±7.24%)  97.75% (±3.34%)  98.21% (±3.21%)   \n",
       "1  96.85% (±2.51%)  0.72% (±0.90%)  99.78% (±0.31%)  99.90% (±0.22%)   \n",
       "\n",
       "            recall         f1_score  \n",
       "0  99.42% (±0.37%)  98.78% (±1.79%)  \n",
       "1  99.85% (±0.22%)  99.88% (±0.18%)  "
      ]
     },
     "execution_count": 19,
     "metadata": {},
     "output_type": "execute_result"
    }
   ],
   "source": [
    "hists = experienceB(newX, y, deepAutoEncoder(), nEpochsAE=1000, nEpochs=1000, nFolds=5, trainVerbose=False,aeFineTune=False)\n",
    "summarizeKFold(hists, key='val_f1_score', f=max)"
   ]
  },
  {
   "cell_type": "code",
   "execution_count": 21,
   "metadata": {},
   "outputs": [
    {
     "data": {
      "text/plain": [
       "'\\\\begin{tabular}{lllllllllll}\\n\\\\toprule\\n{} &          val\\\\_loss &          val\\\\_acc &    val\\\\_precision &       val\\\\_recall &     val\\\\_f1\\\\_score &            loss &              acc &        precision &           recall &         f1\\\\_score \\\\\\\\\\n\\\\midrule\\n0 &   14.79\\\\% (±8.29\\\\%) &  97.01\\\\% (±1.46\\\\%) &  97.72\\\\% (±1.71\\\\%) &  99.03\\\\% (±1.19\\\\%) &  98.35\\\\% (±0.81\\\\%) &  5.87\\\\% (±7.24\\\\%) &  97.75\\\\% (±3.34\\\\%) &  98.21\\\\% (±3.21\\\\%) &  99.42\\\\% (±0.37\\\\%) &  98.78\\\\% (±1.79\\\\%) \\\\\\\\\\n1 &  39.45\\\\% (±31.76\\\\%) &  94.38\\\\% (±4.46\\\\%) &  97.06\\\\% (±2.19\\\\%) &  96.67\\\\% (±3.14\\\\%) &  96.85\\\\% (±2.51\\\\%) &  0.72\\\\% (±0.90\\\\%) &  99.78\\\\% (±0.31\\\\%) &  99.90\\\\% (±0.22\\\\%) &  99.85\\\\% (±0.22\\\\%) &  99.88\\\\% (±0.18\\\\%) \\\\\\\\\\n\\\\bottomrule\\n\\\\end{tabular}\\n'"
      ]
     },
     "execution_count": 21,
     "metadata": {},
     "output_type": "execute_result"
    }
   ],
   "source": [
    "summarizeKFold(hists, key='val_f1_score', f=max).to_latex()"
   ]
  },
  {
   "cell_type": "code",
   "execution_count": 22,
   "metadata": {},
   "outputs": [
    {
     "name": "stdout",
     "output_type": "stream",
     "text": [
      "[FOLD 1] Training Autoencoder\n",
      "[FOLD 1] Finetuning model with top layers from Encoder\n",
      "[FOLD 1] Finetuning model with top layers from Autoencoder\n",
      "[FOLD 2] Training Autoencoder\n",
      "[FOLD 2] Finetuning model with top layers from Encoder\n",
      "[FOLD 2] Finetuning model with top layers from Autoencoder\n",
      "[FOLD 3] Training Autoencoder\n",
      "[FOLD 3] Finetuning model with top layers from Encoder\n",
      "[FOLD 3] Finetuning model with top layers from Autoencoder\n",
      "[FOLD 4] Training Autoencoder\n",
      "[FOLD 4] Finetuning model with top layers from Encoder\n",
      "[FOLD 4] Finetuning model with top layers from Autoencoder\n",
      "[FOLD 5] Training Autoencoder\n",
      "[FOLD 5] Finetuning model with top layers from Encoder\n",
      "[FOLD 5] Finetuning model with top layers from Autoencoder\n"
     ]
    },
    {
     "data": {
      "text/plain": [
       "'\\\\begin{tabular}{lllllllllll}\\n\\\\toprule\\n{} &               val\\\\_loss &          val\\\\_acc &    val\\\\_precision &       val\\\\_recall &     val\\\\_f1\\\\_score &                   loss &              acc &        precision &           recall &         f1\\\\_score \\\\\\\\\\n\\\\midrule\\n0 &  24451.94\\\\% (±2853.10\\\\%) &  97.19\\\\% (±2.00\\\\%) &  98.09\\\\% (±1.49\\\\%) &  98.82\\\\% (±1.62\\\\%) &  98.43\\\\% (±1.12\\\\%) &  28878.06\\\\% (±1533.04\\\\%) &  97.93\\\\% (±2.42\\\\%) &  98.58\\\\% (±2.22\\\\%) &  99.18\\\\% (±0.75\\\\%) &  98.86\\\\% (±1.31\\\\%) \\\\\\\\\\n1 &  24465.35\\\\% (±2846.22\\\\%) &  96.66\\\\% (±1.80\\\\%) &  98.25\\\\% (±0.80\\\\%) &  98.04\\\\% (±1.55\\\\%) &  98.13\\\\% (±1.02\\\\%) &  28938.30\\\\% (±1633.68\\\\%) &  98.72\\\\% (±1.09\\\\%) &  99.46\\\\% (±0.31\\\\%) &  99.13\\\\% (±0.98\\\\%) &  99.29\\\\% (±0.61\\\\%) \\\\\\\\\\n\\\\bottomrule\\n\\\\end{tabular}\\n'"
      ]
     },
     "execution_count": 22,
     "metadata": {},
     "output_type": "execute_result"
    }
   ],
   "source": [
    "hists = experienceB(newX, y, deepSparseDenoisingAutoEncoder(), nEpochsAE=1000, nEpochs=1000, nFolds=5, trainVerbose=False,aeFineTune=False)\n",
    "summarizeKFold(hists, key='val_f1_score', f=max).to_latex()"
   ]
  },
  {
   "cell_type": "code",
   "execution_count": 20,
   "metadata": {},
   "outputs": [
    {
     "name": "stdout",
     "output_type": "stream",
     "text": [
      "[FOLD 1] Training Autoencoder\n",
      "[FOLD 1] Finetuning model with top layers from Encoder\n",
      "[FOLD 1] Finetuning model with top layers from Autoencoder\n",
      "[FOLD 2] Training Autoencoder\n",
      "[FOLD 2] Finetuning model with top layers from Encoder\n",
      "[FOLD 2] Finetuning model with top layers from Autoencoder\n",
      "[FOLD 3] Training Autoencoder\n",
      "[FOLD 3] Finetuning model with top layers from Encoder\n",
      "[FOLD 3] Finetuning model with top layers from Autoencoder\n",
      "[FOLD 4] Training Autoencoder\n",
      "[FOLD 4] Finetuning model with top layers from Encoder\n",
      "[FOLD 4] Finetuning model with top layers from Autoencoder\n",
      "[FOLD 5] Training Autoencoder\n",
      "[FOLD 5] Finetuning model with top layers from Encoder\n",
      "[FOLD 5] Finetuning model with top layers from Autoencoder\n"
     ]
    }
   ],
   "source": [
    "#testing sumarizeKFold changes\n",
    "test = experienceB(newX, y, basicAutoEncoder(), nEpochsAE=1, nEpochs=1, nFolds=5, trainVerbose=False,aeFineTune=True)"
   ]
  },
  {
   "cell_type": "code",
   "execution_count": 89,
   "metadata": {},
   "outputs": [],
   "source": [
    "### Experimenting some visualizations \n",
    "\n",
    "Xtrain, Xval, ytrain, yval = train_test_split(X, y, test_size=0.33, random_state=seed, stratify=y)\n",
    "autoencoder, encoder = denoisingAutoEncoder()(Xtrain)"
   ]
  },
  {
   "cell_type": "code",
   "execution_count": 90,
   "metadata": {},
   "outputs": [
    {
     "name": "stdout",
     "output_type": "stream",
     "text": [
      "Training Autoencoder\n",
      "Train on 380 samples, validate on 188 samples\n",
      "Epoch 1/100\n",
      "380/380 [==============================] - 1s 4ms/step - loss: 19724.0653 - val_loss: 13592.9717\n",
      "\n",
      "Epoch 00001: val_loss improved from inf to 13592.97168, saving model to autoencoderVis.best.hdf5\n",
      "Epoch 2/100\n",
      "380/380 [==============================] - 1s 3ms/step - loss: 18781.6388 - val_loss: 11536.1758\n",
      "\n",
      "Epoch 00002: val_loss improved from 13592.97168 to 11536.17578, saving model to autoencoderVis.best.hdf5\n",
      "Epoch 3/100\n",
      "380/380 [==============================] - 1s 3ms/step - loss: 15846.3003 - val_loss: 7771.0605\n",
      "\n",
      "Epoch 00003: val_loss improved from 11536.17578 to 7771.06055, saving model to autoencoderVis.best.hdf5\n",
      "Epoch 4/100\n",
      "380/380 [==============================] - 1s 3ms/step - loss: 11202.2436 - val_loss: 5248.2065\n",
      "\n",
      "Epoch 00004: val_loss improved from 7771.06055 to 5248.20654, saving model to autoencoderVis.best.hdf5\n",
      "Epoch 5/100\n",
      "380/380 [==============================] - 1s 3ms/step - loss: 7876.0629 - val_loss: 4454.3647\n",
      "\n",
      "Epoch 00005: val_loss improved from 5248.20654 to 4454.36475, saving model to autoencoderVis.best.hdf5\n",
      "Epoch 6/100\n",
      "380/380 [==============================] - 1s 3ms/step - loss: 6357.2404 - val_loss: 3961.7502\n",
      "\n",
      "Epoch 00006: val_loss improved from 4454.36475 to 3961.75024, saving model to autoencoderVis.best.hdf5\n",
      "Epoch 7/100\n",
      "380/380 [==============================] - 1s 3ms/step - loss: 5214.4225 - val_loss: 3641.2966\n",
      "\n",
      "Epoch 00007: val_loss improved from 3961.75024 to 3641.29663, saving model to autoencoderVis.best.hdf5\n",
      "Epoch 8/100\n",
      "380/380 [==============================] - 1s 3ms/step - loss: 4736.9422 - val_loss: 3402.4211\n",
      "\n",
      "Epoch 00008: val_loss improved from 3641.29663 to 3402.42114, saving model to autoencoderVis.best.hdf5\n",
      "Epoch 9/100\n",
      "380/380 [==============================] - 1s 3ms/step - loss: 4539.5520 - val_loss: 3241.7241\n",
      "\n",
      "Epoch 00009: val_loss improved from 3402.42114 to 3241.72412, saving model to autoencoderVis.best.hdf5\n",
      "Epoch 10/100\n",
      "380/380 [==============================] - 1s 3ms/step - loss: 4068.2387 - val_loss: 3246.0894\n",
      "\n",
      "Epoch 00010: val_loss did not improve from 3241.72412\n",
      "Epoch 11/100\n",
      "380/380 [==============================] - 1s 3ms/step - loss: 4066.6331 - val_loss: 3100.5435\n",
      "\n",
      "Epoch 00011: val_loss improved from 3241.72412 to 3100.54346, saving model to autoencoderVis.best.hdf5\n",
      "Epoch 12/100\n",
      "380/380 [==============================] - 1s 3ms/step - loss: 3876.2488 - val_loss: 3056.2407\n",
      "\n",
      "Epoch 00012: val_loss improved from 3100.54346 to 3056.24072, saving model to autoencoderVis.best.hdf5\n",
      "Epoch 13/100\n",
      "380/380 [==============================] - 1s 3ms/step - loss: 3840.7931 - val_loss: 3026.9744\n",
      "\n",
      "Epoch 00013: val_loss improved from 3056.24072 to 3026.97437, saving model to autoencoderVis.best.hdf5\n",
      "Epoch 14/100\n",
      "380/380 [==============================] - 1s 3ms/step - loss: 3912.0857 - val_loss: 3117.3843\n",
      "\n",
      "Epoch 00014: val_loss did not improve from 3026.97437\n",
      "Epoch 15/100\n",
      "380/380 [==============================] - 1s 3ms/step - loss: 3961.7517 - val_loss: 2902.4734\n",
      "\n",
      "Epoch 00015: val_loss improved from 3026.97437 to 2902.47339, saving model to autoencoderVis.best.hdf5\n",
      "Epoch 16/100\n",
      "380/380 [==============================] - 1s 3ms/step - loss: 3630.8408 - val_loss: 2825.8677\n",
      "\n",
      "Epoch 00016: val_loss improved from 2902.47339 to 2825.86768, saving model to autoencoderVis.best.hdf5\n",
      "Epoch 17/100\n",
      "380/380 [==============================] - 1s 3ms/step - loss: 3593.6689 - val_loss: 2829.0576\n",
      "\n",
      "Epoch 00017: val_loss did not improve from 2825.86768\n",
      "Epoch 18/100\n",
      "380/380 [==============================] - 1s 3ms/step - loss: 3700.8190 - val_loss: 2802.5918\n",
      "\n",
      "Epoch 00018: val_loss improved from 2825.86768 to 2802.59180, saving model to autoencoderVis.best.hdf5\n",
      "Epoch 19/100\n",
      "380/380 [==============================] - 1s 3ms/step - loss: 3587.5877 - val_loss: 2655.8059\n",
      "\n",
      "Epoch 00019: val_loss improved from 2802.59180 to 2655.80591, saving model to autoencoderVis.best.hdf5\n",
      "Epoch 20/100\n",
      "380/380 [==============================] - 1s 3ms/step - loss: 3570.7385 - val_loss: 2700.1968\n",
      "\n",
      "Epoch 00020: val_loss did not improve from 2655.80591\n",
      "Epoch 21/100\n",
      "380/380 [==============================] - 1s 3ms/step - loss: 3655.0657 - val_loss: 2608.8071\n",
      "\n",
      "Epoch 00021: val_loss improved from 2655.80591 to 2608.80713, saving model to autoencoderVis.best.hdf5\n",
      "Epoch 22/100\n",
      "380/380 [==============================] - 1s 3ms/step - loss: 3438.1800 - val_loss: 2663.0461\n",
      "\n",
      "Epoch 00022: val_loss did not improve from 2608.80713\n",
      "Epoch 23/100\n",
      "380/380 [==============================] - 1s 3ms/step - loss: 3585.5005 - val_loss: 2582.2585\n",
      "\n",
      "Epoch 00023: val_loss improved from 2608.80713 to 2582.25854, saving model to autoencoderVis.best.hdf5\n",
      "Epoch 24/100\n",
      "380/380 [==============================] - 1s 3ms/step - loss: 3365.8913 - val_loss: 2577.0767\n",
      "\n",
      "Epoch 00024: val_loss improved from 2582.25854 to 2577.07666, saving model to autoencoderVis.best.hdf5\n",
      "Epoch 25/100\n",
      "380/380 [==============================] - 1s 3ms/step - loss: 3293.4549 - val_loss: 2508.9309\n",
      "\n",
      "Epoch 00025: val_loss improved from 2577.07666 to 2508.93091, saving model to autoencoderVis.best.hdf5\n",
      "Epoch 26/100\n",
      "380/380 [==============================] - 1s 3ms/step - loss: 3285.3547 - val_loss: 2560.8687\n",
      "\n",
      "Epoch 00026: val_loss did not improve from 2508.93091\n",
      "Epoch 27/100\n",
      "380/380 [==============================] - 1s 3ms/step - loss: 3322.7870 - val_loss: 2483.6543\n",
      "\n",
      "Epoch 00027: val_loss improved from 2508.93091 to 2483.65430, saving model to autoencoderVis.best.hdf5\n",
      "Epoch 28/100\n",
      "380/380 [==============================] - 1s 3ms/step - loss: 3263.4675 - val_loss: 2438.2441\n",
      "\n",
      "Epoch 00028: val_loss improved from 2483.65430 to 2438.24414, saving model to autoencoderVis.best.hdf5\n",
      "Epoch 29/100\n",
      "380/380 [==============================] - 1s 3ms/step - loss: 3265.7583 - val_loss: 2442.9775\n",
      "\n",
      "Epoch 00029: val_loss did not improve from 2438.24414\n",
      "Epoch 30/100\n",
      "380/380 [==============================] - 1s 3ms/step - loss: 3312.4964 - val_loss: 2595.7878\n",
      "\n",
      "Epoch 00030: val_loss did not improve from 2438.24414\n",
      "Epoch 31/100\n",
      "380/380 [==============================] - 1s 3ms/step - loss: 3353.6447 - val_loss: 2473.7349\n",
      "\n",
      "Epoch 00031: val_loss did not improve from 2438.24414\n",
      "Epoch 32/100\n",
      "380/380 [==============================] - 1s 3ms/step - loss: 3224.6196 - val_loss: 2366.1143\n",
      "\n",
      "Epoch 00032: val_loss improved from 2438.24414 to 2366.11426, saving model to autoencoderVis.best.hdf5\n",
      "Epoch 33/100\n",
      "380/380 [==============================] - 1s 3ms/step - loss: 3101.5805 - val_loss: 2331.9583\n",
      "\n",
      "Epoch 00033: val_loss improved from 2366.11426 to 2331.95825, saving model to autoencoderVis.best.hdf5\n",
      "Epoch 34/100\n",
      "380/380 [==============================] - 1s 3ms/step - loss: 3080.4714 - val_loss: 2392.3242\n",
      "\n",
      "Epoch 00034: val_loss did not improve from 2331.95825\n",
      "Epoch 35/100\n",
      "380/380 [==============================] - 1s 3ms/step - loss: 3219.4127 - val_loss: 2334.9221\n",
      "\n",
      "Epoch 00035: val_loss did not improve from 2331.95825\n",
      "Epoch 36/100\n",
      "380/380 [==============================] - 1s 3ms/step - loss: 3083.1443 - val_loss: 2361.0969\n",
      "\n",
      "Epoch 00036: val_loss did not improve from 2331.95825\n",
      "Epoch 37/100\n",
      "380/380 [==============================] - 1s 3ms/step - loss: 3054.4155 - val_loss: 2250.3716\n",
      "\n",
      "Epoch 00037: val_loss improved from 2331.95825 to 2250.37158, saving model to autoencoderVis.best.hdf5\n",
      "Epoch 38/100\n",
      "380/380 [==============================] - 1s 3ms/step - loss: 2963.6553 - val_loss: 2286.9805\n",
      "\n",
      "Epoch 00038: val_loss did not improve from 2250.37158\n",
      "Epoch 39/100\n",
      "380/380 [==============================] - 1s 3ms/step - loss: 3076.0670 - val_loss: 2285.8315\n",
      "\n",
      "Epoch 00039: val_loss did not improve from 2250.37158\n",
      "Epoch 40/100\n",
      "380/380 [==============================] - 1s 3ms/step - loss: 2862.3944 - val_loss: 1947.5787\n",
      "\n",
      "Epoch 00040: val_loss improved from 2250.37158 to 1947.57874, saving model to autoencoderVis.best.hdf5\n",
      "Epoch 41/100\n",
      "380/380 [==============================] - 1s 3ms/step - loss: 2466.1498 - val_loss: 1777.3273\n",
      "\n",
      "Epoch 00041: val_loss improved from 1947.57874 to 1777.32727, saving model to autoencoderVis.best.hdf5\n",
      "Epoch 42/100\n",
      "380/380 [==============================] - 1s 3ms/step - loss: 2265.5360 - val_loss: 1618.1187\n",
      "\n",
      "Epoch 00042: val_loss improved from 1777.32727 to 1618.11865, saving model to autoencoderVis.best.hdf5\n"
     ]
    },
    {
     "name": "stdout",
     "output_type": "stream",
     "text": [
      "Epoch 43/100\n",
      "380/380 [==============================] - 1s 3ms/step - loss: 2015.7394 - val_loss: 1576.9972\n",
      "\n",
      "Epoch 00043: val_loss improved from 1618.11865 to 1576.99719, saving model to autoencoderVis.best.hdf5\n",
      "Epoch 44/100\n",
      "380/380 [==============================] - 1s 3ms/step - loss: 1956.7562 - val_loss: 1664.0126\n",
      "\n",
      "Epoch 00044: val_loss did not improve from 1576.99719\n",
      "Epoch 45/100\n",
      "380/380 [==============================] - 1s 3ms/step - loss: 2048.2125 - val_loss: 1832.9209\n",
      "\n",
      "Epoch 00045: val_loss did not improve from 1576.99719\n",
      "Epoch 46/100\n",
      "380/380 [==============================] - 1s 3ms/step - loss: 2161.7189 - val_loss: 1614.8485\n",
      "\n",
      "Epoch 00046: val_loss did not improve from 1576.99719\n",
      "Epoch 47/100\n",
      "380/380 [==============================] - 1s 3ms/step - loss: 1844.0331 - val_loss: 1480.1394\n",
      "\n",
      "Epoch 00047: val_loss improved from 1576.99719 to 1480.13940, saving model to autoencoderVis.best.hdf5\n",
      "Epoch 48/100\n",
      "380/380 [==============================] - 1s 3ms/step - loss: 1740.7933 - val_loss: 1357.6823\n",
      "\n",
      "Epoch 00048: val_loss improved from 1480.13940 to 1357.68225, saving model to autoencoderVis.best.hdf5\n",
      "Epoch 49/100\n",
      "380/380 [==============================] - 1s 3ms/step - loss: 1564.4866 - val_loss: 1410.6965\n",
      "\n",
      "Epoch 00049: val_loss did not improve from 1357.68225\n",
      "Epoch 50/100\n",
      "380/380 [==============================] - 1s 3ms/step - loss: 1633.7710 - val_loss: 1431.1504\n",
      "\n",
      "Epoch 00050: val_loss did not improve from 1357.68225\n",
      "Epoch 51/100\n",
      "380/380 [==============================] - 1s 3ms/step - loss: 1712.8282 - val_loss: 1405.5533\n",
      "\n",
      "Epoch 00051: val_loss did not improve from 1357.68225\n",
      "Epoch 52/100\n",
      "380/380 [==============================] - 1s 3ms/step - loss: 1642.8029 - val_loss: 1370.2804\n",
      "\n",
      "Epoch 00052: val_loss did not improve from 1357.68225\n",
      "Epoch 53/100\n",
      "380/380 [==============================] - 1s 3ms/step - loss: 1701.4728 - val_loss: 1245.8016\n",
      "\n",
      "Epoch 00053: val_loss improved from 1357.68225 to 1245.80164, saving model to autoencoderVis.best.hdf5\n",
      "Epoch 54/100\n",
      "380/380 [==============================] - 1s 3ms/step - loss: 1565.9200 - val_loss: 1189.8099\n",
      "\n",
      "Epoch 00054: val_loss improved from 1245.80164 to 1189.80994, saving model to autoencoderVis.best.hdf5\n",
      "Epoch 55/100\n",
      "380/380 [==============================] - 1s 3ms/step - loss: 1654.6983 - val_loss: 1192.4398\n",
      "\n",
      "Epoch 00055: val_loss did not improve from 1189.80994\n",
      "Epoch 56/100\n",
      "380/380 [==============================] - 1s 3ms/step - loss: 1477.3327 - val_loss: 1188.4030\n",
      "\n",
      "Epoch 00056: val_loss improved from 1189.80994 to 1188.40295, saving model to autoencoderVis.best.hdf5\n",
      "Epoch 57/100\n",
      "380/380 [==============================] - 1s 3ms/step - loss: 1479.4192 - val_loss: 1276.6917\n",
      "\n",
      "Epoch 00057: val_loss did not improve from 1188.40295\n",
      "Epoch 58/100\n",
      "380/380 [==============================] - 1s 3ms/step - loss: 1612.9000 - val_loss: 1237.6833\n",
      "\n",
      "Epoch 00058: val_loss did not improve from 1188.40295\n",
      "Epoch 59/100\n",
      "380/380 [==============================] - 1s 3ms/step - loss: 1611.2444 - val_loss: 1208.3713\n",
      "\n",
      "Epoch 00059: val_loss did not improve from 1188.40295\n",
      "Epoch 60/100\n",
      "380/380 [==============================] - 1s 3ms/step - loss: 1551.8295 - val_loss: 1316.0934\n",
      "\n",
      "Epoch 00060: val_loss did not improve from 1188.40295\n",
      "Epoch 61/100\n",
      "380/380 [==============================] - 1s 3ms/step - loss: 1509.5078 - val_loss: 1310.3220\n",
      "\n",
      "Epoch 00061: val_loss did not improve from 1188.40295\n",
      "Epoch 62/100\n",
      "380/380 [==============================] - 1s 3ms/step - loss: 1786.1013 - val_loss: 1376.3160\n",
      "\n",
      "Epoch 00062: val_loss did not improve from 1188.40295\n",
      "Epoch 63/100\n",
      "380/380 [==============================] - 1s 3ms/step - loss: 1653.4807 - val_loss: 1281.5432\n",
      "\n",
      "Epoch 00063: val_loss did not improve from 1188.40295\n",
      "Epoch 64/100\n",
      "380/380 [==============================] - 1s 3ms/step - loss: 1633.0289 - val_loss: 1460.7605\n",
      "\n",
      "Epoch 00064: val_loss did not improve from 1188.40295\n",
      "Epoch 65/100\n",
      "380/380 [==============================] - 1s 3ms/step - loss: 1625.1039 - val_loss: 1483.0486\n",
      "\n",
      "Epoch 00065: val_loss did not improve from 1188.40295\n",
      "Epoch 66/100\n",
      "380/380 [==============================] - 1s 3ms/step - loss: 1793.8704 - val_loss: 1350.3556\n",
      "\n",
      "Epoch 00066: val_loss did not improve from 1188.40295\n",
      "Epoch 67/100\n",
      "380/380 [==============================] - 1s 3ms/step - loss: 1499.2249 - val_loss: 1284.6095\n",
      "\n",
      "Epoch 00067: val_loss did not improve from 1188.40295\n",
      "Epoch 68/100\n",
      "380/380 [==============================] - 1s 3ms/step - loss: 1340.5417 - val_loss: 1200.4807\n",
      "\n",
      "Epoch 00068: val_loss did not improve from 1188.40295\n",
      "Epoch 69/100\n",
      "380/380 [==============================] - 1s 3ms/step - loss: 1347.7770 - val_loss: 1146.9821\n",
      "\n",
      "Epoch 00069: val_loss improved from 1188.40295 to 1146.98206, saving model to autoencoderVis.best.hdf5\n",
      "Epoch 70/100\n",
      "380/380 [==============================] - 1s 3ms/step - loss: 1307.1639 - val_loss: 1170.2366\n",
      "\n",
      "Epoch 00070: val_loss did not improve from 1146.98206\n",
      "Epoch 71/100\n",
      "380/380 [==============================] - 1s 3ms/step - loss: 1344.5405 - val_loss: 1210.4440\n",
      "\n",
      "Epoch 00071: val_loss did not improve from 1146.98206\n",
      "Epoch 72/100\n",
      "380/380 [==============================] - 1s 3ms/step - loss: 1330.2580 - val_loss: 1135.6088\n",
      "\n",
      "Epoch 00072: val_loss improved from 1146.98206 to 1135.60876, saving model to autoencoderVis.best.hdf5\n",
      "Epoch 73/100\n",
      "380/380 [==============================] - 1s 3ms/step - loss: 1450.7457 - val_loss: 1138.4829\n",
      "\n",
      "Epoch 00073: val_loss did not improve from 1135.60876\n",
      "Epoch 74/100\n",
      "380/380 [==============================] - 1s 3ms/step - loss: 1425.8368 - val_loss: 1136.7832\n",
      "\n",
      "Epoch 00074: val_loss did not improve from 1135.60876\n",
      "Epoch 75/100\n",
      "380/380 [==============================] - 1s 3ms/step - loss: 1310.9577 - val_loss: 1107.0114\n",
      "\n",
      "Epoch 00075: val_loss improved from 1135.60876 to 1107.01135, saving model to autoencoderVis.best.hdf5\n",
      "Epoch 76/100\n",
      "380/380 [==============================] - 1s 3ms/step - loss: 1203.0252 - val_loss: 1051.0884\n",
      "\n",
      "Epoch 00076: val_loss improved from 1107.01135 to 1051.08838, saving model to autoencoderVis.best.hdf5\n",
      "Epoch 77/100\n",
      "380/380 [==============================] - 1s 3ms/step - loss: 1321.5906 - val_loss: 1162.8556\n",
      "\n",
      "Epoch 00077: val_loss did not improve from 1051.08838\n",
      "Epoch 78/100\n",
      "380/380 [==============================] - 1s 3ms/step - loss: 1309.6026 - val_loss: 1154.7408\n",
      "\n",
      "Epoch 00078: val_loss did not improve from 1051.08838\n",
      "Epoch 79/100\n",
      "380/380 [==============================] - 1s 3ms/step - loss: 1504.8793 - val_loss: 1151.1323\n",
      "\n",
      "Epoch 00079: val_loss did not improve from 1051.08838\n",
      "Epoch 80/100\n",
      "380/380 [==============================] - 1s 3ms/step - loss: 1211.3900 - val_loss: 1149.4409\n",
      "\n",
      "Epoch 00080: val_loss did not improve from 1051.08838\n",
      "Epoch 81/100\n",
      "380/380 [==============================] - 1s 3ms/step - loss: 1282.3355 - val_loss: 1133.7935\n",
      "\n",
      "Epoch 00081: val_loss did not improve from 1051.08838\n",
      "Epoch 82/100\n",
      "380/380 [==============================] - 1s 3ms/step - loss: 1227.5715 - val_loss: 1119.0637\n",
      "\n",
      "Epoch 00082: val_loss did not improve from 1051.08838\n",
      "Epoch 83/100\n",
      "380/380 [==============================] - 1s 3ms/step - loss: 1259.0093 - val_loss: 1129.8052\n",
      "\n",
      "Epoch 00083: val_loss did not improve from 1051.08838\n",
      "Epoch 84/100\n",
      "380/380 [==============================] - 1s 3ms/step - loss: 1361.3852 - val_loss: 1154.4462\n",
      "\n",
      "Epoch 00084: val_loss did not improve from 1051.08838\n",
      "Epoch 85/100\n",
      "380/380 [==============================] - 1s 3ms/step - loss: 1374.6135 - val_loss: 1184.3257\n",
      "\n",
      "Epoch 00085: val_loss did not improve from 1051.08838\n",
      "Epoch 86/100\n",
      "380/380 [==============================] - 1s 3ms/step - loss: 1396.9273 - val_loss: 1163.1543\n",
      "\n",
      "Epoch 00086: val_loss did not improve from 1051.08838\n",
      "Epoch 87/100\n",
      "380/380 [==============================] - 1s 3ms/step - loss: 1346.8513 - val_loss: 1068.8224\n",
      "\n",
      "Epoch 00087: val_loss did not improve from 1051.08838\n",
      "Epoch 88/100\n",
      "380/380 [==============================] - 1s 3ms/step - loss: 1263.9637 - val_loss: 1029.6451\n",
      "\n",
      "Epoch 00088: val_loss improved from 1051.08838 to 1029.64514, saving model to autoencoderVis.best.hdf5\n",
      "Epoch 89/100\n",
      "380/380 [==============================] - 1s 3ms/step - loss: 1248.9689 - val_loss: 998.7033\n",
      "\n",
      "Epoch 00089: val_loss improved from 1029.64514 to 998.70331, saving model to autoencoderVis.best.hdf5\n"
     ]
    },
    {
     "name": "stdout",
     "output_type": "stream",
     "text": [
      "Epoch 90/100\n",
      "380/380 [==============================] - 1s 3ms/step - loss: 1163.8851 - val_loss: 964.7992\n",
      "\n",
      "Epoch 00090: val_loss improved from 998.70331 to 964.79919, saving model to autoencoderVis.best.hdf5\n",
      "Epoch 91/100\n",
      "380/380 [==============================] - 1s 3ms/step - loss: 1130.0205 - val_loss: 976.0574\n",
      "\n",
      "Epoch 00091: val_loss did not improve from 964.79919\n",
      "Epoch 92/100\n",
      "380/380 [==============================] - 1s 3ms/step - loss: 1093.9677 - val_loss: 1014.8679\n",
      "\n",
      "Epoch 00092: val_loss did not improve from 964.79919\n",
      "Epoch 93/100\n",
      "380/380 [==============================] - 1s 3ms/step - loss: 1156.2693 - val_loss: 959.8472\n",
      "\n",
      "Epoch 00093: val_loss improved from 964.79919 to 959.84717, saving model to autoencoderVis.best.hdf5\n",
      "Epoch 94/100\n",
      "380/380 [==============================] - 2s 4ms/step - loss: 1183.0817 - val_loss: 983.5356\n",
      "\n",
      "Epoch 00094: val_loss did not improve from 959.84717\n",
      "Epoch 95/100\n",
      "380/380 [==============================] - 1s 3ms/step - loss: 1257.8118 - val_loss: 1091.4016\n",
      "\n",
      "Epoch 00095: val_loss did not improve from 959.84717\n",
      "Epoch 96/100\n",
      "380/380 [==============================] - 1s 3ms/step - loss: 1279.6487 - val_loss: 1080.0609\n",
      "\n",
      "Epoch 00096: val_loss did not improve from 959.84717\n",
      "Epoch 97/100\n",
      "380/380 [==============================] - 1s 3ms/step - loss: 1405.1169 - val_loss: 1088.6707\n",
      "\n",
      "Epoch 00097: val_loss did not improve from 959.84717\n",
      "Epoch 98/100\n",
      "380/380 [==============================] - 1s 3ms/step - loss: 1182.3148 - val_loss: 966.5494\n",
      "\n",
      "Epoch 00098: val_loss did not improve from 959.84717\n",
      "Epoch 99/100\n",
      "380/380 [==============================] - 1s 3ms/step - loss: 1195.1215 - val_loss: 1042.8361\n",
      "\n",
      "Epoch 00099: val_loss did not improve from 959.84717\n",
      "Epoch 100/100\n",
      "380/380 [==============================] - 1s 3ms/step - loss: 1111.1439 - val_loss: 1019.0269\n",
      "\n",
      "Epoch 00100: val_loss did not improve from 959.84717\n"
     ]
    },
    {
     "data": {
      "text/plain": [
       "<keras.callbacks.History at 0x7f1a7bc45080>"
      ]
     },
     "execution_count": 90,
     "metadata": {},
     "output_type": "execute_result"
    }
   ],
   "source": [
    "filepath = \"autoencoderVis.best.hdf5\"\n",
    "checkpoint = ModelCheckpoint(filepath, monitor='val_loss', verbose=True, save_best_only=True, mode='min')\n",
    "\n",
    "print('Training Autoencoder')\n",
    "autoencoder.fit(Xtrain, Xtrain, epochs=100, batch_size=200, validation_data=(Xval, Xval),verbose=True, callbacks = [checkpoint])"
   ]
  },
  {
   "cell_type": "code",
   "execution_count": null,
   "metadata": {},
   "outputs": [],
   "source": [
    "def visualize(encodingLayer):\n",
    "    layerDim = encodingLayer.get_config()['units']\n",
    "    layerWeights = encodingLayer.get_weights()[0].transpose()\n",
    "    layerBiases = np.array([encodingLayer.get_weights()[1]]).transpose()\n",
    "\n",
    "    import matplotlib.pyplot as plt\n",
    "    from matplotlib import ticker\n",
    "    from matplotlib import gridspec\n",
    "    import seaborn as sns \n",
    "\n",
    "    %matplotlib inline\n",
    "    %config InlineBackend.figure_format = 'retina'\n",
    "\n",
    "    plt.rcParams[\"figure.figsize\"] = 20,15\n",
    "    gs = gridspec.GridSpec(1, 2, width_ratios=[40, 1])\n",
    "    f, (ax, ax2) = plt.subplots(ncols=2)\n",
    "    f.subplots_adjust(wspace=0.01)\n",
    "    cmap = sns.diverging_palette(220, 10, as_cmap=True)\n",
    "\n",
    "\n",
    "    # Weights\n",
    "    ax = plt.subplot(gs[0])\n",
    "    sns.heatmap(layerWeights, cmap=cmap, cbar=False, yticklabels=(list(range(layerDim))), xticklabels=[], ax=ax)\n",
    "\n",
    "    ax.yaxis.set_major_locator(ticker.MultipleLocator(10))\n",
    "    ax.yaxis.set_major_formatter(ticker.ScalarFormatter())\n",
    "\n",
    "    # Biases\n",
    "    ax2 = plt.subplot(gs[1])\n",
    "    sns.heatmap(layerBiases, cmap=cmap, cbar=False, yticklabels=[], xticklabels=[], ax=ax2)"
   ]
  },
  {
   "cell_type": "code",
   "execution_count": null,
   "metadata": {
    "scrolled": true
   },
   "outputs": [],
   "source": [
    "bestModel = load_model('autoencoderVis.best.hdf5')\n",
    "encodingLayer = bestModel.layers[2]\n",
    "visualize(encodingLayer)"
   ]
  }
 ],
 "metadata": {
  "kernelspec": {
   "display_name": "Python 3",
   "language": "python",
   "name": "python3"
  },
  "language_info": {
   "codemirror_mode": {
    "name": "ipython",
    "version": 3
   },
   "file_extension": ".py",
   "mimetype": "text/x-python",
   "name": "python",
   "nbconvert_exporter": "python",
   "pygments_lexer": "ipython3",
   "version": "3.6.5"
  }
 },
 "nbformat": 4,
 "nbformat_minor": 2
}
